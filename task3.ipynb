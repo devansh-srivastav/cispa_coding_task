{
 "cells": [
  {
   "cell_type": "code",
   "execution_count": 1,
   "metadata": {},
   "outputs": [
    {
     "data": {
      "text/plain": [
       "True"
      ]
     },
     "execution_count": 1,
     "metadata": {},
     "output_type": "execute_result"
    }
   ],
   "source": [
    "import torch\n",
    "import numpy as np\n",
    "import random\n",
    "from dotenv import load_dotenv\n",
    "import os\n",
    "from huggingface_hub import login\n",
    "\n",
    "load_dotenv()"
   ]
  },
  {
   "cell_type": "code",
   "execution_count": 2,
   "metadata": {},
   "outputs": [
    {
     "name": "stderr",
     "output_type": "stream",
     "text": [
      "Note: Environment variable`HF_TOKEN` is set and is the current active token independently from the token you've just configured.\n"
     ]
    }
   ],
   "source": [
    "HF_TOKEN = os.getenv(\"HF_TOKEN\")\n",
    "login(HF_TOKEN)"
   ]
  },
  {
   "cell_type": "code",
   "execution_count": 3,
   "metadata": {},
   "outputs": [
    {
     "name": "stdout",
     "output_type": "stream",
     "text": [
      "Seed set to 42\n"
     ]
    }
   ],
   "source": [
    "SEED = 42\n",
    "def set_seed(seed):\n",
    "    np.random.seed(seed)\n",
    "    random.seed(seed)\n",
    "    torch.manual_seed(seed)\n",
    "    torch.mps.manual_seed(seed)\n",
    "set_seed(SEED)\n",
    "print(f\"Seed set to {SEED}\")"
   ]
  },
  {
   "cell_type": "code",
   "execution_count": 4,
   "metadata": {},
   "outputs": [
    {
     "name": "stdout",
     "output_type": "stream",
     "text": [
      "Using device: mps\n"
     ]
    }
   ],
   "source": [
    "def get_device():\n",
    "    if torch.cuda.is_available():\n",
    "        device = torch.device(\"cuda:0\")\n",
    "    elif torch.backends.mps.is_available():\n",
    "        device = torch.device(\"mps\")\n",
    "    else:\n",
    "        device = torch.device('cpu')\n",
    "    return device\n",
    "device = get_device()\n",
    "print(\"Using device:\", device)"
   ]
  },
  {
   "cell_type": "markdown",
   "metadata": {},
   "source": [
    "# Finetuning a Model"
   ]
  },
  {
   "cell_type": "markdown",
   "metadata": {},
   "source": [
    "### 1. Use the datasets library to load the ```imdb``` dataset for sentiment classification, selecting 200 samples for training and 50 samples for testing from the respective dataset splits. Make sure there are the same amount of positive as negative samples in each split. Print the label counts for each split as well as the first sample."
   ]
  },
  {
   "cell_type": "code",
   "execution_count": 5,
   "metadata": {},
   "outputs": [],
   "source": [
    "from datasets import load_dataset, concatenate_datasets"
   ]
  },
  {
   "cell_type": "code",
   "execution_count": 6,
   "metadata": {},
   "outputs": [],
   "source": [
    "dataset = load_dataset(\"stanfordnlp/imdb\")"
   ]
  },
  {
   "cell_type": "code",
   "execution_count": 7,
   "metadata": {},
   "outputs": [],
   "source": [
    "def select_samples(split, num_samples):\n",
    "    pos_samples = dataset[split].filter(lambda x: x['label'] == 1).select(range(num_samples // 2))\n",
    "    neg_samples = dataset[split].filter(lambda x: x['label'] == 0).select(range(num_samples // 2))\n",
    "    return concatenate_datasets([pos_samples, neg_samples]).shuffle(seed = SEED)"
   ]
  },
  {
   "cell_type": "code",
   "execution_count": 8,
   "metadata": {},
   "outputs": [],
   "source": [
    "train_dataset = select_samples('train', 200)\n",
    "test_dataset = select_samples('test', 50)"
   ]
  },
  {
   "cell_type": "code",
   "execution_count": 9,
   "metadata": {},
   "outputs": [],
   "source": [
    "from collections import Counter"
   ]
  },
  {
   "cell_type": "code",
   "execution_count": 10,
   "metadata": {},
   "outputs": [],
   "source": [
    "train_labels = [example['label'] for example in train_dataset]\n",
    "test_labels = [example['label'] for example in test_dataset]"
   ]
  },
  {
   "cell_type": "code",
   "execution_count": 11,
   "metadata": {},
   "outputs": [
    {
     "name": "stdout",
     "output_type": "stream",
     "text": [
      "Training Set Label Counts: Counter({0: 100, 1: 100})\n",
      "Testing Set Label Counts: Counter({1: 25, 0: 25})\n"
     ]
    }
   ],
   "source": [
    "print(\"Training Set Label Counts:\", Counter(train_labels))\n",
    "print(\"Testing Set Label Counts:\", Counter(test_labels))"
   ]
  },
  {
   "cell_type": "code",
   "execution_count": 12,
   "metadata": {},
   "outputs": [
    {
     "name": "stdout",
     "output_type": "stream",
     "text": [
      "First Training Sample:\n",
      "Text: Ned Kelly (Ledger), the infamous Australian outlaw and legend. Sort of like Robin Hood, with a mix of Billy the Kid, Australians love the legend of how he stood up against the English aristocratic oppression, and united the lower classes to change Australia forever. The fact that the lower classes of the time were around 70% immigrant criminals seems to be casually skimmed around by this film. Indeed, quite a few so called `facts' in this film are, on reflection, a tad dubious.<br /><br />I suppose the suspicions should have been aroused when, in the opening credits, it was claimed that this film is based upon the book, `Our Sunshine'. If ever a romanticized version of truth could be seen in a name for a book, there it was. This wasn't going to be a historical epic, but just an adaptation of one of many dubious legends of Ned Kelly, albeit a harsh and sporadically brutal version.<br /><br />Unfortunately, Ned Kelly is nothing more than an overblown Hallmark channel `real life historical drama' wannabe! The story plods along at an alarming rate (alarming because never has a film plodded so slowly!) The feeling of numbness after the two hours of pure drivel brought back memories of Costner's awful Wyatt Earp all those years ago. Simply put, nothing happens in the film, but it takes a long time getting to that nothing. This would possibly have been a tad more bearable if the performances were good (because the direction sure as heck wasn't). However, unless you are looking to play a game of spot the worst Oirish accent, then you're gonna be disappointed. Between that, the game of `Who has the stupidest beard?', `Spot the obvious backstabber!' (clue, they are all ginger for some reason), and `Nature in Australia.including lions', it is an experience similar to flicking through Hallmark, The History Channel, Discovery Channel, and Neighbours whilst suffering a huge hangover. Yup, nature pops up a lot, as to fill even more time (possibly an attempt to look arty), the film keeps showing pointless wildlife shots, and once all the native species are shown, here's a circus to allow for a camel and a lion (which is used during one fight to try to make us actually feel more sorry for the lion than the massacred people).<br /><br />This is a turgid, emotionless piece of historical fluff which should have gone straight to TV. There isn't even one good word I can say about this film. Even the usually fantastic Rush seems embarrassed to be here. When one of the characters comments that there is only 2 bullets left for him and his pal, I myself was wishing I had a gun to blow any memory of this film out of my head!\n",
      "Label: 0\n"
     ]
    }
   ],
   "source": [
    "print(\"First Training Sample:\")\n",
    "print(\"Text:\", train_dataset[0]['text'])\n",
    "print(\"Label:\", train_dataset[0]['label'])"
   ]
  },
  {
   "cell_type": "code",
   "execution_count": 13,
   "metadata": {},
   "outputs": [
    {
     "name": "stdout",
     "output_type": "stream",
     "text": [
      "First Test Sample:\n",
      "Text: Overall, a well done movie. There were the parts that made me wince, and there were the parts that I threw my hands up at, but I came away with something more than I gone in with.<br /><br />I think the movie suffers from some serious excess ambition. Without spoiling it, let me say that the obvious references to the trial by fire in Ramayana, is way beyond what this movie stands for. The Ramayana is an epic. Not a 200 page book that puts down women in India. The movie is about two girls married into a very distinctive Indian family. While the basic tenets of the \"unwritten laws of the family tradition\" seem to be that of conservative India, let me assure my reader that I (having lived in Delhi for 12 years) found entire parts that just did not ring those bells. I mean some things and some actions are very true, but some other stuff is just way off the mark. Especially today.<br /><br />Delhi is complicated. India is complicated. The director tries to simplify both. And fails pretty miserably at that.<br /><br />Why in English? Can you imagine a movie about American Indians in English. Or the French speaking in English. Seriously jarring. Even the servant spoke in fluent accented English (albeit with a hint of colloquialisms in the language for \"believability\").<br /><br />But the chemistry between the leads is palpable. If you like it hot, this is a movie for you. I think that is the biggest saving grace - the development of a true real life love story.<br /><br />If this film was about Radha and Sita, then it would have got full marks from me. And in being about them, it could have made a subtle statement. But this movie goes out there to say this is what India is, and this is what Indian society is like. And in that respect it succeeds as much as it fails. Just take everything you see with a pinch of salt. The dark secrets of India are not being revealed. Just two girls are falling in love. Just like it happens everywhere else.\n",
      "Label: 1\n"
     ]
    }
   ],
   "source": [
    "print(\"First Test Sample:\")\n",
    "print(\"Text:\", test_dataset[0]['text'])\n",
    "print(\"Label:\", test_dataset[0]['label'])"
   ]
  },
  {
   "cell_type": "markdown",
   "metadata": {},
   "source": [
    "### 2. Load the tokenizer for the ```distilbert-base-uncased``` model and tokenize the data."
   ]
  },
  {
   "cell_type": "code",
   "execution_count": 14,
   "metadata": {},
   "outputs": [],
   "source": [
    "from transformers import AutoTokenizer"
   ]
  },
  {
   "cell_type": "code",
   "execution_count": 15,
   "metadata": {},
   "outputs": [],
   "source": [
    "tokenizer = AutoTokenizer.from_pretrained(\"distilbert/distilbert-base-uncased\")"
   ]
  },
  {
   "cell_type": "code",
   "execution_count": 16,
   "metadata": {},
   "outputs": [],
   "source": [
    "def tokenize_data(example):\n",
    "    return tokenizer(example['text'], padding='max_length', truncation=True)"
   ]
  },
  {
   "cell_type": "code",
   "execution_count": 17,
   "metadata": {},
   "outputs": [],
   "source": [
    "tokenized_train = train_dataset.map(tokenize_data, batched=True)\n",
    "tokenized_test = test_dataset.map(tokenize_data, batched=True)"
   ]
  },
  {
   "cell_type": "markdown",
   "metadata": {},
   "source": [
    "### 3. Load the ```distilbert-base-uncased``` model on the GPU and adapt it for binary classification by adding a classification head. Print the model configuration."
   ]
  },
  {
   "cell_type": "code",
   "execution_count": 18,
   "metadata": {},
   "outputs": [],
   "source": [
    "from transformers import AutoModelForSequenceClassification"
   ]
  },
  {
   "cell_type": "code",
   "execution_count": 19,
   "metadata": {},
   "outputs": [
    {
     "name": "stderr",
     "output_type": "stream",
     "text": [
      "Some weights of DistilBertForSequenceClassification were not initialized from the model checkpoint at distilbert/distilbert-base-uncased and are newly initialized: ['classifier.bias', 'classifier.weight', 'pre_classifier.bias', 'pre_classifier.weight']\n",
      "You should probably TRAIN this model on a down-stream task to be able to use it for predictions and inference.\n"
     ]
    }
   ],
   "source": [
    "model = AutoModelForSequenceClassification.from_pretrained(\"distilbert/distilbert-base-uncased\", num_labels=2).to(device)"
   ]
  },
  {
   "cell_type": "code",
   "execution_count": 20,
   "metadata": {},
   "outputs": [
    {
     "name": "stdout",
     "output_type": "stream",
     "text": [
      "Model Configuration:\n",
      "DistilBertConfig {\n",
      "  \"_attn_implementation_autoset\": true,\n",
      "  \"_name_or_path\": \"distilbert/distilbert-base-uncased\",\n",
      "  \"activation\": \"gelu\",\n",
      "  \"architectures\": [\n",
      "    \"DistilBertForMaskedLM\"\n",
      "  ],\n",
      "  \"attention_dropout\": 0.1,\n",
      "  \"dim\": 768,\n",
      "  \"dropout\": 0.1,\n",
      "  \"hidden_dim\": 3072,\n",
      "  \"initializer_range\": 0.02,\n",
      "  \"max_position_embeddings\": 512,\n",
      "  \"model_type\": \"distilbert\",\n",
      "  \"n_heads\": 12,\n",
      "  \"n_layers\": 6,\n",
      "  \"pad_token_id\": 0,\n",
      "  \"qa_dropout\": 0.1,\n",
      "  \"seq_classif_dropout\": 0.2,\n",
      "  \"sinusoidal_pos_embds\": false,\n",
      "  \"tie_weights_\": true,\n",
      "  \"transformers_version\": \"4.46.1\",\n",
      "  \"vocab_size\": 30522\n",
      "}\n",
      "\n"
     ]
    }
   ],
   "source": [
    "print(\"Model Configuration:\")\n",
    "print(model.config)"
   ]
  },
  {
   "cell_type": "markdown",
   "metadata": {},
   "source": [
    "### 4. Use the ```Trainer``` API from Hugging Face for training. Configure the Trainer with:\n",
    "- Training arguments like ```num_train_epochs``` , ```per_device_train_batch_size```, and ```per_device_eval_batch_size```. Choose appropriate values.\n",
    "- ```evaluation_strategy``` set to \"```epoch```\" to evaluate the model at the end of each epoch."
   ]
  },
  {
   "cell_type": "code",
   "execution_count": 21,
   "metadata": {},
   "outputs": [],
   "source": [
    "from transformers import TrainingArguments, Trainer"
   ]
  },
  {
   "cell_type": "markdown",
   "metadata": {},
   "source": [
    "Using ```load_best_model_at_end=True``` so that setting a higher value for ```num_train_epochs``` does not adversely affect the final model performance, since the best checkpoint from all epochs will be restored at the end of training."
   ]
  },
  {
   "cell_type": "code",
   "execution_count": 22,
   "metadata": {},
   "outputs": [],
   "source": [
    "training_args = TrainingArguments(\n",
    "    output_dir='./results',\n",
    "    num_train_epochs=50,\n",
    "    per_device_train_batch_size=32,\n",
    "    per_device_eval_batch_size=32,\n",
    "    eval_strategy='epoch',\n",
    "    save_strategy='epoch',\n",
    "    logging_dir='./logs',\n",
    "    logging_steps=10,\n",
    "    load_best_model_at_end=True,\n",
    "    metric_for_best_model='accuracy'\n",
    ")"
   ]
  },
  {
   "cell_type": "code",
   "execution_count": 23,
   "metadata": {},
   "outputs": [],
   "source": [
    "from transformers import DataCollatorWithPadding\n",
    "data_collator = DataCollatorWithPadding(tokenizer=tokenizer)"
   ]
  },
  {
   "cell_type": "markdown",
   "metadata": {},
   "source": [
    "### 5. Define a simple metric (accuracy) to monitor performance during training."
   ]
  },
  {
   "cell_type": "code",
   "execution_count": 24,
   "metadata": {},
   "outputs": [],
   "source": [
    "import numpy as np\n",
    "import evaluate\n",
    "\n",
    "metric = evaluate.load('accuracy')\n",
    "\n",
    "def compute_metrics(eval_pred):\n",
    "    logits, labels = eval_pred\n",
    "    predictions = np.argmax(logits, axis=-1)\n",
    "    return metric.compute(predictions=predictions, references=labels)"
   ]
  },
  {
   "cell_type": "markdown",
   "metadata": {},
   "source": [
    "### 6. Train the model with the Trainer. Print the training and validation loss as well as the validation accuracy after each epoch."
   ]
  },
  {
   "cell_type": "code",
   "execution_count": 25,
   "metadata": {},
   "outputs": [
    {
     "name": "stderr",
     "output_type": "stream",
     "text": [
      "/var/folders/01/jf33y2q50rj3dzgjq71ytt_80000gn/T/ipykernel_98954/1532580790.py:1: FutureWarning: `tokenizer` is deprecated and will be removed in version 5.0.0 for `Trainer.__init__`. Use `processing_class` instead.\n",
      "  trainer = Trainer(\n"
     ]
    },
    {
     "data": {
      "application/vnd.jupyter.widget-view+json": {
       "model_id": "172cccf9d5ef4bdfbd165e98f3213767",
       "version_major": 2,
       "version_minor": 0
      },
      "text/plain": [
       "  0%|          | 0/350 [00:00<?, ?it/s]"
      ]
     },
     "metadata": {},
     "output_type": "display_data"
    },
    {
     "data": {
      "application/vnd.jupyter.widget-view+json": {
       "model_id": "400c725244fe4d79a3526598730f8869",
       "version_major": 2,
       "version_minor": 0
      },
      "text/plain": [
       "  0%|          | 0/2 [00:00<?, ?it/s]"
      ]
     },
     "metadata": {},
     "output_type": "display_data"
    },
    {
     "name": "stdout",
     "output_type": "stream",
     "text": [
      "{'eval_loss': 0.6844596266746521, 'eval_accuracy': 0.5, 'eval_runtime': 0.5982, 'eval_samples_per_second': 83.583, 'eval_steps_per_second': 3.343, 'epoch': 1.0}\n",
      "{'loss': 0.6789, 'grad_norm': 0.9121620059013367, 'learning_rate': 4.8571428571428576e-05, 'epoch': 1.43}\n"
     ]
    },
    {
     "data": {
      "application/vnd.jupyter.widget-view+json": {
       "model_id": "23f7b3601738406b919fa6f20864d743",
       "version_major": 2,
       "version_minor": 0
      },
      "text/plain": [
       "  0%|          | 0/2 [00:00<?, ?it/s]"
      ]
     },
     "metadata": {},
     "output_type": "display_data"
    },
    {
     "name": "stdout",
     "output_type": "stream",
     "text": [
      "{'eval_loss': 0.7627889513969421, 'eval_accuracy': 0.5, 'eval_runtime': 0.6042, 'eval_samples_per_second': 82.756, 'eval_steps_per_second': 3.31, 'epoch': 2.0}\n",
      "{'loss': 0.6011, 'grad_norm': 3.2625017166137695, 'learning_rate': 4.714285714285714e-05, 'epoch': 2.86}\n"
     ]
    },
    {
     "data": {
      "application/vnd.jupyter.widget-view+json": {
       "model_id": "63b6e01fc1a7403386e68c399f4f1713",
       "version_major": 2,
       "version_minor": 0
      },
      "text/plain": [
       "  0%|          | 0/2 [00:00<?, ?it/s]"
      ]
     },
     "metadata": {},
     "output_type": "display_data"
    },
    {
     "name": "stdout",
     "output_type": "stream",
     "text": [
      "{'eval_loss': 0.6330229043960571, 'eval_accuracy': 0.62, 'eval_runtime': 0.64, 'eval_samples_per_second': 78.119, 'eval_steps_per_second': 3.125, 'epoch': 3.0}\n"
     ]
    },
    {
     "data": {
      "application/vnd.jupyter.widget-view+json": {
       "model_id": "d4a29c495a1449568acb75d6424ccfcc",
       "version_major": 2,
       "version_minor": 0
      },
      "text/plain": [
       "  0%|          | 0/2 [00:00<?, ?it/s]"
      ]
     },
     "metadata": {},
     "output_type": "display_data"
    },
    {
     "name": "stdout",
     "output_type": "stream",
     "text": [
      "{'eval_loss': 0.7780811786651611, 'eval_accuracy': 0.58, 'eval_runtime': 0.6213, 'eval_samples_per_second': 80.482, 'eval_steps_per_second': 3.219, 'epoch': 4.0}\n",
      "{'loss': 0.3463, 'grad_norm': 5.981366157531738, 'learning_rate': 4.5714285714285716e-05, 'epoch': 4.29}\n"
     ]
    },
    {
     "data": {
      "application/vnd.jupyter.widget-view+json": {
       "model_id": "44667bdf4a564aa0a9df46888a84b16b",
       "version_major": 2,
       "version_minor": 0
      },
      "text/plain": [
       "  0%|          | 0/2 [00:00<?, ?it/s]"
      ]
     },
     "metadata": {},
     "output_type": "display_data"
    },
    {
     "name": "stdout",
     "output_type": "stream",
     "text": [
      "{'eval_loss': 0.8604112267494202, 'eval_accuracy': 0.62, 'eval_runtime': 0.5923, 'eval_samples_per_second': 84.415, 'eval_steps_per_second': 3.377, 'epoch': 5.0}\n",
      "{'loss': 0.1205, 'grad_norm': 4.945954322814941, 'learning_rate': 4.428571428571428e-05, 'epoch': 5.71}\n"
     ]
    },
    {
     "data": {
      "application/vnd.jupyter.widget-view+json": {
       "model_id": "6f4f2872d9f44cc8a99207185d14a358",
       "version_major": 2,
       "version_minor": 0
      },
      "text/plain": [
       "  0%|          | 0/2 [00:00<?, ?it/s]"
      ]
     },
     "metadata": {},
     "output_type": "display_data"
    },
    {
     "name": "stdout",
     "output_type": "stream",
     "text": [
      "{'eval_loss': 1.1406810283660889, 'eval_accuracy': 0.56, 'eval_runtime': 0.5463, 'eval_samples_per_second': 91.524, 'eval_steps_per_second': 3.661, 'epoch': 6.0}\n"
     ]
    },
    {
     "data": {
      "application/vnd.jupyter.widget-view+json": {
       "model_id": "1431c562970640dd8f2fed32c9d4eba0",
       "version_major": 2,
       "version_minor": 0
      },
      "text/plain": [
       "  0%|          | 0/2 [00:00<?, ?it/s]"
      ]
     },
     "metadata": {},
     "output_type": "display_data"
    },
    {
     "name": "stdout",
     "output_type": "stream",
     "text": [
      "{'eval_loss': 1.6705536842346191, 'eval_accuracy': 0.54, 'eval_runtime': 0.5993, 'eval_samples_per_second': 83.428, 'eval_steps_per_second': 3.337, 'epoch': 7.0}\n",
      "{'loss': 0.0165, 'grad_norm': 0.15385520458221436, 'learning_rate': 4.2857142857142856e-05, 'epoch': 7.14}\n"
     ]
    },
    {
     "data": {
      "application/vnd.jupyter.widget-view+json": {
       "model_id": "4395588af4e14c40b2b1ede31fe07cab",
       "version_major": 2,
       "version_minor": 0
      },
      "text/plain": [
       "  0%|          | 0/2 [00:00<?, ?it/s]"
      ]
     },
     "metadata": {},
     "output_type": "display_data"
    },
    {
     "name": "stdout",
     "output_type": "stream",
     "text": [
      "{'eval_loss': 1.8818931579589844, 'eval_accuracy': 0.56, 'eval_runtime': 0.6282, 'eval_samples_per_second': 79.592, 'eval_steps_per_second': 3.184, 'epoch': 8.0}\n",
      "{'loss': 0.0045, 'grad_norm': 0.04631126672029495, 'learning_rate': 4.1428571428571437e-05, 'epoch': 8.57}\n"
     ]
    },
    {
     "data": {
      "application/vnd.jupyter.widget-view+json": {
       "model_id": "e33c68c025414193905ca556b237f0b7",
       "version_major": 2,
       "version_minor": 0
      },
      "text/plain": [
       "  0%|          | 0/2 [00:00<?, ?it/s]"
      ]
     },
     "metadata": {},
     "output_type": "display_data"
    },
    {
     "name": "stdout",
     "output_type": "stream",
     "text": [
      "{'eval_loss': 2.0453391075134277, 'eval_accuracy': 0.56, 'eval_runtime': 0.5735, 'eval_samples_per_second': 87.189, 'eval_steps_per_second': 3.488, 'epoch': 9.0}\n",
      "{'loss': 0.0023, 'grad_norm': 0.02741876244544983, 'learning_rate': 4e-05, 'epoch': 10.0}\n"
     ]
    },
    {
     "data": {
      "application/vnd.jupyter.widget-view+json": {
       "model_id": "d4121ad89cf846f5be8f52e06f866eeb",
       "version_major": 2,
       "version_minor": 0
      },
      "text/plain": [
       "  0%|          | 0/2 [00:00<?, ?it/s]"
      ]
     },
     "metadata": {},
     "output_type": "display_data"
    },
    {
     "name": "stdout",
     "output_type": "stream",
     "text": [
      "{'eval_loss': 2.164607286453247, 'eval_accuracy': 0.56, 'eval_runtime': 0.6169, 'eval_samples_per_second': 81.045, 'eval_steps_per_second': 3.242, 'epoch': 10.0}\n"
     ]
    },
    {
     "data": {
      "application/vnd.jupyter.widget-view+json": {
       "model_id": "2cdb21d5909c4ae6a6b7345506749cca",
       "version_major": 2,
       "version_minor": 0
      },
      "text/plain": [
       "  0%|          | 0/2 [00:00<?, ?it/s]"
      ]
     },
     "metadata": {},
     "output_type": "display_data"
    },
    {
     "name": "stdout",
     "output_type": "stream",
     "text": [
      "{'eval_loss': 2.2466864585876465, 'eval_accuracy': 0.56, 'eval_runtime': 0.5939, 'eval_samples_per_second': 84.191, 'eval_steps_per_second': 3.368, 'epoch': 11.0}\n",
      "{'loss': 0.0015, 'grad_norm': 0.01945476606488228, 'learning_rate': 3.857142857142858e-05, 'epoch': 11.43}\n"
     ]
    },
    {
     "data": {
      "application/vnd.jupyter.widget-view+json": {
       "model_id": "d91d83dd3ad74331a6bc2d96303e162d",
       "version_major": 2,
       "version_minor": 0
      },
      "text/plain": [
       "  0%|          | 0/2 [00:00<?, ?it/s]"
      ]
     },
     "metadata": {},
     "output_type": "display_data"
    },
    {
     "name": "stdout",
     "output_type": "stream",
     "text": [
      "{'eval_loss': 2.3045849800109863, 'eval_accuracy': 0.56, 'eval_runtime': 0.5773, 'eval_samples_per_second': 86.604, 'eval_steps_per_second': 3.464, 'epoch': 12.0}\n",
      "{'loss': 0.0012, 'grad_norm': 0.01683773286640644, 'learning_rate': 3.7142857142857143e-05, 'epoch': 12.86}\n"
     ]
    },
    {
     "data": {
      "application/vnd.jupyter.widget-view+json": {
       "model_id": "87fd974bf80a466caf6debecd143ed7d",
       "version_major": 2,
       "version_minor": 0
      },
      "text/plain": [
       "  0%|          | 0/2 [00:00<?, ?it/s]"
      ]
     },
     "metadata": {},
     "output_type": "display_data"
    },
    {
     "name": "stdout",
     "output_type": "stream",
     "text": [
      "{'eval_loss': 2.3491132259368896, 'eval_accuracy': 0.56, 'eval_runtime': 0.5738, 'eval_samples_per_second': 87.135, 'eval_steps_per_second': 3.485, 'epoch': 13.0}\n"
     ]
    },
    {
     "data": {
      "application/vnd.jupyter.widget-view+json": {
       "model_id": "bcf6fb03d42d45c4973ba592e428d4e0",
       "version_major": 2,
       "version_minor": 0
      },
      "text/plain": [
       "  0%|          | 0/2 [00:00<?, ?it/s]"
      ]
     },
     "metadata": {},
     "output_type": "display_data"
    },
    {
     "name": "stdout",
     "output_type": "stream",
     "text": [
      "{'eval_loss': 2.3864901065826416, 'eval_accuracy': 0.56, 'eval_runtime': 0.6287, 'eval_samples_per_second': 79.523, 'eval_steps_per_second': 3.181, 'epoch': 14.0}\n",
      "{'loss': 0.0009, 'grad_norm': 0.013980508781969547, 'learning_rate': 3.571428571428572e-05, 'epoch': 14.29}\n"
     ]
    },
    {
     "data": {
      "application/vnd.jupyter.widget-view+json": {
       "model_id": "32060832f4bc41749c5d7800d5d794c1",
       "version_major": 2,
       "version_minor": 0
      },
      "text/plain": [
       "  0%|          | 0/2 [00:00<?, ?it/s]"
      ]
     },
     "metadata": {},
     "output_type": "display_data"
    },
    {
     "name": "stdout",
     "output_type": "stream",
     "text": [
      "{'eval_loss': 2.414905309677124, 'eval_accuracy': 0.56, 'eval_runtime': 0.6092, 'eval_samples_per_second': 82.077, 'eval_steps_per_second': 3.283, 'epoch': 15.0}\n",
      "{'loss': 0.0008, 'grad_norm': 0.012998536229133606, 'learning_rate': 3.428571428571429e-05, 'epoch': 15.71}\n"
     ]
    },
    {
     "data": {
      "application/vnd.jupyter.widget-view+json": {
       "model_id": "72b33f34e3084e6495adfc0c7ee1bda2",
       "version_major": 2,
       "version_minor": 0
      },
      "text/plain": [
       "  0%|          | 0/2 [00:00<?, ?it/s]"
      ]
     },
     "metadata": {},
     "output_type": "display_data"
    },
    {
     "name": "stdout",
     "output_type": "stream",
     "text": [
      "{'eval_loss': 2.4414703845977783, 'eval_accuracy': 0.56, 'eval_runtime': 0.5664, 'eval_samples_per_second': 88.275, 'eval_steps_per_second': 3.531, 'epoch': 16.0}\n"
     ]
    },
    {
     "data": {
      "application/vnd.jupyter.widget-view+json": {
       "model_id": "511133ee8a334a3cb31423da64493105",
       "version_major": 2,
       "version_minor": 0
      },
      "text/plain": [
       "  0%|          | 0/2 [00:00<?, ?it/s]"
      ]
     },
     "metadata": {},
     "output_type": "display_data"
    },
    {
     "name": "stdout",
     "output_type": "stream",
     "text": [
      "{'eval_loss': 2.4653592109680176, 'eval_accuracy': 0.56, 'eval_runtime': 0.5832, 'eval_samples_per_second': 85.729, 'eval_steps_per_second': 3.429, 'epoch': 17.0}\n",
      "{'loss': 0.0007, 'grad_norm': 0.012086618691682816, 'learning_rate': 3.285714285714286e-05, 'epoch': 17.14}\n"
     ]
    },
    {
     "data": {
      "application/vnd.jupyter.widget-view+json": {
       "model_id": "738049c3450548eca39880f18558d69f",
       "version_major": 2,
       "version_minor": 0
      },
      "text/plain": [
       "  0%|          | 0/2 [00:00<?, ?it/s]"
      ]
     },
     "metadata": {},
     "output_type": "display_data"
    },
    {
     "name": "stdout",
     "output_type": "stream",
     "text": [
      "{'eval_loss': 2.49015736579895, 'eval_accuracy': 0.56, 'eval_runtime': 0.5596, 'eval_samples_per_second': 89.35, 'eval_steps_per_second': 3.574, 'epoch': 18.0}\n",
      "{'loss': 0.0007, 'grad_norm': 0.01101008616387844, 'learning_rate': 3.142857142857143e-05, 'epoch': 18.57}\n"
     ]
    },
    {
     "data": {
      "application/vnd.jupyter.widget-view+json": {
       "model_id": "2fc461e69d264f86a30312a1cccbddbc",
       "version_major": 2,
       "version_minor": 0
      },
      "text/plain": [
       "  0%|          | 0/2 [00:00<?, ?it/s]"
      ]
     },
     "metadata": {},
     "output_type": "display_data"
    },
    {
     "name": "stdout",
     "output_type": "stream",
     "text": [
      "{'eval_loss': 2.5106382369995117, 'eval_accuracy': 0.56, 'eval_runtime': 0.5899, 'eval_samples_per_second': 84.753, 'eval_steps_per_second': 3.39, 'epoch': 19.0}\n",
      "{'loss': 0.0006, 'grad_norm': 0.009391388855874538, 'learning_rate': 3e-05, 'epoch': 20.0}\n"
     ]
    },
    {
     "data": {
      "application/vnd.jupyter.widget-view+json": {
       "model_id": "7fc180a250d24671a2a846b69ce2e24b",
       "version_major": 2,
       "version_minor": 0
      },
      "text/plain": [
       "  0%|          | 0/2 [00:00<?, ?it/s]"
      ]
     },
     "metadata": {},
     "output_type": "display_data"
    },
    {
     "name": "stdout",
     "output_type": "stream",
     "text": [
      "{'eval_loss': 2.5289392471313477, 'eval_accuracy': 0.56, 'eval_runtime': 0.5952, 'eval_samples_per_second': 84.009, 'eval_steps_per_second': 3.36, 'epoch': 20.0}\n"
     ]
    },
    {
     "data": {
      "application/vnd.jupyter.widget-view+json": {
       "model_id": "faf4b50fd5634dcda94b76a42d1b162b",
       "version_major": 2,
       "version_minor": 0
      },
      "text/plain": [
       "  0%|          | 0/2 [00:00<?, ?it/s]"
      ]
     },
     "metadata": {},
     "output_type": "display_data"
    },
    {
     "name": "stdout",
     "output_type": "stream",
     "text": [
      "{'eval_loss': 2.546236038208008, 'eval_accuracy': 0.56, 'eval_runtime': 0.5875, 'eval_samples_per_second': 85.101, 'eval_steps_per_second': 3.404, 'epoch': 21.0}\n",
      "{'loss': 0.0005, 'grad_norm': 0.008417838253080845, 'learning_rate': 2.857142857142857e-05, 'epoch': 21.43}\n"
     ]
    },
    {
     "data": {
      "application/vnd.jupyter.widget-view+json": {
       "model_id": "e5d3c00e2fdf40c2a1e7ce105544c2ce",
       "version_major": 2,
       "version_minor": 0
      },
      "text/plain": [
       "  0%|          | 0/2 [00:00<?, ?it/s]"
      ]
     },
     "metadata": {},
     "output_type": "display_data"
    },
    {
     "name": "stdout",
     "output_type": "stream",
     "text": [
      "{'eval_loss': 2.563535213470459, 'eval_accuracy': 0.56, 'eval_runtime': 0.6027, 'eval_samples_per_second': 82.96, 'eval_steps_per_second': 3.318, 'epoch': 22.0}\n",
      "{'loss': 0.0005, 'grad_norm': 0.00901388842612505, 'learning_rate': 2.714285714285714e-05, 'epoch': 22.86}\n"
     ]
    },
    {
     "data": {
      "application/vnd.jupyter.widget-view+json": {
       "model_id": "944ee053b6b54315a46371e7ee61729d",
       "version_major": 2,
       "version_minor": 0
      },
      "text/plain": [
       "  0%|          | 0/2 [00:00<?, ?it/s]"
      ]
     },
     "metadata": {},
     "output_type": "display_data"
    },
    {
     "name": "stdout",
     "output_type": "stream",
     "text": [
      "{'eval_loss': 2.5789284706115723, 'eval_accuracy': 0.56, 'eval_runtime': 0.6517, 'eval_samples_per_second': 76.719, 'eval_steps_per_second': 3.069, 'epoch': 23.0}\n"
     ]
    },
    {
     "data": {
      "application/vnd.jupyter.widget-view+json": {
       "model_id": "d970b63dd87d4d68905c5ed8d6ad0215",
       "version_major": 2,
       "version_minor": 0
      },
      "text/plain": [
       "  0%|          | 0/2 [00:00<?, ?it/s]"
      ]
     },
     "metadata": {},
     "output_type": "display_data"
    },
    {
     "name": "stdout",
     "output_type": "stream",
     "text": [
      "{'eval_loss': 2.593454599380493, 'eval_accuracy': 0.56, 'eval_runtime': 0.6223, 'eval_samples_per_second': 80.345, 'eval_steps_per_second': 3.214, 'epoch': 24.0}\n",
      "{'loss': 0.0005, 'grad_norm': 0.008877181448042393, 'learning_rate': 2.5714285714285714e-05, 'epoch': 24.29}\n"
     ]
    },
    {
     "data": {
      "application/vnd.jupyter.widget-view+json": {
       "model_id": "80dd8049df1f4f59902c419ada39c613",
       "version_major": 2,
       "version_minor": 0
      },
      "text/plain": [
       "  0%|          | 0/2 [00:00<?, ?it/s]"
      ]
     },
     "metadata": {},
     "output_type": "display_data"
    },
    {
     "name": "stdout",
     "output_type": "stream",
     "text": [
      "{'eval_loss': 2.607285976409912, 'eval_accuracy': 0.56, 'eval_runtime': 0.6383, 'eval_samples_per_second': 78.339, 'eval_steps_per_second': 3.134, 'epoch': 25.0}\n",
      "{'loss': 0.0004, 'grad_norm': 0.008311874233186245, 'learning_rate': 2.4285714285714288e-05, 'epoch': 25.71}\n"
     ]
    },
    {
     "data": {
      "application/vnd.jupyter.widget-view+json": {
       "model_id": "550a92180cca40a2b68e443519dee629",
       "version_major": 2,
       "version_minor": 0
      },
      "text/plain": [
       "  0%|          | 0/2 [00:00<?, ?it/s]"
      ]
     },
     "metadata": {},
     "output_type": "display_data"
    },
    {
     "name": "stdout",
     "output_type": "stream",
     "text": [
      "{'eval_loss': 2.6209354400634766, 'eval_accuracy': 0.58, 'eval_runtime': 0.6023, 'eval_samples_per_second': 83.019, 'eval_steps_per_second': 3.321, 'epoch': 26.0}\n"
     ]
    },
    {
     "data": {
      "application/vnd.jupyter.widget-view+json": {
       "model_id": "658a650004b540f090a201c4a6496288",
       "version_major": 2,
       "version_minor": 0
      },
      "text/plain": [
       "  0%|          | 0/2 [00:00<?, ?it/s]"
      ]
     },
     "metadata": {},
     "output_type": "display_data"
    },
    {
     "name": "stdout",
     "output_type": "stream",
     "text": [
      "{'eval_loss': 2.633516311645508, 'eval_accuracy': 0.58, 'eval_runtime': 0.6628, 'eval_samples_per_second': 75.436, 'eval_steps_per_second': 3.017, 'epoch': 27.0}\n",
      "{'loss': 0.0004, 'grad_norm': 0.007390887476503849, 'learning_rate': 2.2857142857142858e-05, 'epoch': 27.14}\n"
     ]
    },
    {
     "data": {
      "application/vnd.jupyter.widget-view+json": {
       "model_id": "44e57911fab743c89e8aaadb8d081cf0",
       "version_major": 2,
       "version_minor": 0
      },
      "text/plain": [
       "  0%|          | 0/2 [00:00<?, ?it/s]"
      ]
     },
     "metadata": {},
     "output_type": "display_data"
    },
    {
     "name": "stdout",
     "output_type": "stream",
     "text": [
      "{'eval_loss': 2.645871162414551, 'eval_accuracy': 0.58, 'eval_runtime': 0.67, 'eval_samples_per_second': 74.627, 'eval_steps_per_second': 2.985, 'epoch': 28.0}\n",
      "{'loss': 0.0004, 'grad_norm': 0.006620308384299278, 'learning_rate': 2.1428571428571428e-05, 'epoch': 28.57}\n"
     ]
    },
    {
     "data": {
      "application/vnd.jupyter.widget-view+json": {
       "model_id": "4ec4d214e6e34a70adbafce25727f217",
       "version_major": 2,
       "version_minor": 0
      },
      "text/plain": [
       "  0%|          | 0/2 [00:00<?, ?it/s]"
      ]
     },
     "metadata": {},
     "output_type": "display_data"
    },
    {
     "name": "stdout",
     "output_type": "stream",
     "text": [
      "{'eval_loss': 2.6575894355773926, 'eval_accuracy': 0.58, 'eval_runtime': 0.68, 'eval_samples_per_second': 73.527, 'eval_steps_per_second': 2.941, 'epoch': 29.0}\n",
      "{'loss': 0.0004, 'grad_norm': 0.00783505942672491, 'learning_rate': 2e-05, 'epoch': 30.0}\n"
     ]
    },
    {
     "data": {
      "application/vnd.jupyter.widget-view+json": {
       "model_id": "5e49c737552149dcad8912fdee201367",
       "version_major": 2,
       "version_minor": 0
      },
      "text/plain": [
       "  0%|          | 0/2 [00:00<?, ?it/s]"
      ]
     },
     "metadata": {},
     "output_type": "display_data"
    },
    {
     "name": "stdout",
     "output_type": "stream",
     "text": [
      "{'eval_loss': 2.668602705001831, 'eval_accuracy': 0.58, 'eval_runtime': 0.9354, 'eval_samples_per_second': 53.451, 'eval_steps_per_second': 2.138, 'epoch': 30.0}\n"
     ]
    },
    {
     "data": {
      "application/vnd.jupyter.widget-view+json": {
       "model_id": "fd3dcf122bf046a79c15449ed3a396ef",
       "version_major": 2,
       "version_minor": 0
      },
      "text/plain": [
       "  0%|          | 0/2 [00:00<?, ?it/s]"
      ]
     },
     "metadata": {},
     "output_type": "display_data"
    },
    {
     "name": "stdout",
     "output_type": "stream",
     "text": [
      "{'eval_loss': 2.6793129444122314, 'eval_accuracy': 0.58, 'eval_runtime': 0.5834, 'eval_samples_per_second': 85.698, 'eval_steps_per_second': 3.428, 'epoch': 31.0}\n",
      "{'loss': 0.0004, 'grad_norm': 0.006035269238054752, 'learning_rate': 1.8571428571428572e-05, 'epoch': 31.43}\n"
     ]
    },
    {
     "data": {
      "application/vnd.jupyter.widget-view+json": {
       "model_id": "c51692e6176448c2bbefa7cb50a7bf0b",
       "version_major": 2,
       "version_minor": 0
      },
      "text/plain": [
       "  0%|          | 0/2 [00:00<?, ?it/s]"
      ]
     },
     "metadata": {},
     "output_type": "display_data"
    },
    {
     "name": "stdout",
     "output_type": "stream",
     "text": [
      "{'eval_loss': 2.68874454498291, 'eval_accuracy': 0.58, 'eval_runtime': 0.8054, 'eval_samples_per_second': 62.082, 'eval_steps_per_second': 2.483, 'epoch': 32.0}\n",
      "{'loss': 0.0003, 'grad_norm': 0.005285230930894613, 'learning_rate': 1.7142857142857145e-05, 'epoch': 32.86}\n"
     ]
    },
    {
     "data": {
      "application/vnd.jupyter.widget-view+json": {
       "model_id": "8066e3617134434cbf33288a040d180a",
       "version_major": 2,
       "version_minor": 0
      },
      "text/plain": [
       "  0%|          | 0/2 [00:00<?, ?it/s]"
      ]
     },
     "metadata": {},
     "output_type": "display_data"
    },
    {
     "name": "stdout",
     "output_type": "stream",
     "text": [
      "{'eval_loss': 2.697890520095825, 'eval_accuracy': 0.58, 'eval_runtime': 0.7145, 'eval_samples_per_second': 69.981, 'eval_steps_per_second': 2.799, 'epoch': 33.0}\n"
     ]
    },
    {
     "data": {
      "application/vnd.jupyter.widget-view+json": {
       "model_id": "d2c6db6163bc4a4e959f2c262af1cad4",
       "version_major": 2,
       "version_minor": 0
      },
      "text/plain": [
       "  0%|          | 0/2 [00:00<?, ?it/s]"
      ]
     },
     "metadata": {},
     "output_type": "display_data"
    },
    {
     "name": "stdout",
     "output_type": "stream",
     "text": [
      "{'eval_loss': 2.7059361934661865, 'eval_accuracy': 0.58, 'eval_runtime': 0.7032, 'eval_samples_per_second': 71.099, 'eval_steps_per_second': 2.844, 'epoch': 34.0}\n",
      "{'loss': 0.0003, 'grad_norm': 0.005757856648415327, 'learning_rate': 1.5714285714285715e-05, 'epoch': 34.29}\n"
     ]
    },
    {
     "data": {
      "application/vnd.jupyter.widget-view+json": {
       "model_id": "b452c9bcfe144b54a0f7c386ad69c25e",
       "version_major": 2,
       "version_minor": 0
      },
      "text/plain": [
       "  0%|          | 0/2 [00:00<?, ?it/s]"
      ]
     },
     "metadata": {},
     "output_type": "display_data"
    },
    {
     "name": "stdout",
     "output_type": "stream",
     "text": [
      "{'eval_loss': 2.7132089138031006, 'eval_accuracy': 0.58, 'eval_runtime': 0.6905, 'eval_samples_per_second': 72.415, 'eval_steps_per_second': 2.897, 'epoch': 35.0}\n",
      "{'loss': 0.0003, 'grad_norm': 0.005824069958180189, 'learning_rate': 1.4285714285714285e-05, 'epoch': 35.71}\n"
     ]
    },
    {
     "data": {
      "application/vnd.jupyter.widget-view+json": {
       "model_id": "55b2285a1fd14bde8ac476a231b3c361",
       "version_major": 2,
       "version_minor": 0
      },
      "text/plain": [
       "  0%|          | 0/2 [00:00<?, ?it/s]"
      ]
     },
     "metadata": {},
     "output_type": "display_data"
    },
    {
     "name": "stdout",
     "output_type": "stream",
     "text": [
      "{'eval_loss': 2.7182934284210205, 'eval_accuracy': 0.58, 'eval_runtime': 0.6573, 'eval_samples_per_second': 76.074, 'eval_steps_per_second': 3.043, 'epoch': 36.0}\n"
     ]
    },
    {
     "data": {
      "application/vnd.jupyter.widget-view+json": {
       "model_id": "0d56c0f427b442ba8d33fdfda802b975",
       "version_major": 2,
       "version_minor": 0
      },
      "text/plain": [
       "  0%|          | 0/2 [00:00<?, ?it/s]"
      ]
     },
     "metadata": {},
     "output_type": "display_data"
    },
    {
     "name": "stdout",
     "output_type": "stream",
     "text": [
      "{'eval_loss': 2.7236785888671875, 'eval_accuracy': 0.58, 'eval_runtime': 0.6938, 'eval_samples_per_second': 72.063, 'eval_steps_per_second': 2.883, 'epoch': 37.0}\n",
      "{'loss': 0.0003, 'grad_norm': 0.005626563914120197, 'learning_rate': 1.2857142857142857e-05, 'epoch': 37.14}\n"
     ]
    },
    {
     "data": {
      "application/vnd.jupyter.widget-view+json": {
       "model_id": "2830788f6e264304ae803cd5490c19ac",
       "version_major": 2,
       "version_minor": 0
      },
      "text/plain": [
       "  0%|          | 0/2 [00:00<?, ?it/s]"
      ]
     },
     "metadata": {},
     "output_type": "display_data"
    },
    {
     "name": "stdout",
     "output_type": "stream",
     "text": [
      "{'eval_loss': 2.7290947437286377, 'eval_accuracy': 0.58, 'eval_runtime': 0.6983, 'eval_samples_per_second': 71.601, 'eval_steps_per_second': 2.864, 'epoch': 38.0}\n",
      "{'loss': 0.0003, 'grad_norm': 0.005388506222516298, 'learning_rate': 1.1428571428571429e-05, 'epoch': 38.57}\n"
     ]
    },
    {
     "data": {
      "application/vnd.jupyter.widget-view+json": {
       "model_id": "56d2f9b844ba407d803f9eac986e0476",
       "version_major": 2,
       "version_minor": 0
      },
      "text/plain": [
       "  0%|          | 0/2 [00:00<?, ?it/s]"
      ]
     },
     "metadata": {},
     "output_type": "display_data"
    },
    {
     "name": "stdout",
     "output_type": "stream",
     "text": [
      "{'eval_loss': 2.7362172603607178, 'eval_accuracy': 0.58, 'eval_runtime': 0.6526, 'eval_samples_per_second': 76.616, 'eval_steps_per_second': 3.065, 'epoch': 39.0}\n",
      "{'loss': 0.0003, 'grad_norm': 0.005997044965624809, 'learning_rate': 1e-05, 'epoch': 40.0}\n"
     ]
    },
    {
     "data": {
      "application/vnd.jupyter.widget-view+json": {
       "model_id": "f743cd8993734b3090a9f20db94cbb16",
       "version_major": 2,
       "version_minor": 0
      },
      "text/plain": [
       "  0%|          | 0/2 [00:00<?, ?it/s]"
      ]
     },
     "metadata": {},
     "output_type": "display_data"
    },
    {
     "name": "stdout",
     "output_type": "stream",
     "text": [
      "{'eval_loss': 2.7429163455963135, 'eval_accuracy': 0.58, 'eval_runtime': 0.6301, 'eval_samples_per_second': 79.355, 'eval_steps_per_second': 3.174, 'epoch': 40.0}\n"
     ]
    },
    {
     "data": {
      "application/vnd.jupyter.widget-view+json": {
       "model_id": "3ad2115c731546c5b1116b4d3026e998",
       "version_major": 2,
       "version_minor": 0
      },
      "text/plain": [
       "  0%|          | 0/2 [00:00<?, ?it/s]"
      ]
     },
     "metadata": {},
     "output_type": "display_data"
    },
    {
     "name": "stdout",
     "output_type": "stream",
     "text": [
      "{'eval_loss': 2.749074697494507, 'eval_accuracy': 0.58, 'eval_runtime': 0.6427, 'eval_samples_per_second': 77.797, 'eval_steps_per_second': 3.112, 'epoch': 41.0}\n",
      "{'loss': 0.0003, 'grad_norm': 0.005078851245343685, 'learning_rate': 8.571428571428573e-06, 'epoch': 41.43}\n"
     ]
    },
    {
     "data": {
      "application/vnd.jupyter.widget-view+json": {
       "model_id": "dbfb49de67e34356abe698bd4286736b",
       "version_major": 2,
       "version_minor": 0
      },
      "text/plain": [
       "  0%|          | 0/2 [00:00<?, ?it/s]"
      ]
     },
     "metadata": {},
     "output_type": "display_data"
    },
    {
     "name": "stdout",
     "output_type": "stream",
     "text": [
      "{'eval_loss': 2.7541635036468506, 'eval_accuracy': 0.58, 'eval_runtime': 0.5897, 'eval_samples_per_second': 84.791, 'eval_steps_per_second': 3.392, 'epoch': 42.0}\n",
      "{'loss': 0.0003, 'grad_norm': 0.0046392218209803104, 'learning_rate': 7.142857142857143e-06, 'epoch': 42.86}\n"
     ]
    },
    {
     "data": {
      "application/vnd.jupyter.widget-view+json": {
       "model_id": "b75ffc148b9e4ca084ba6cb8a3a29d37",
       "version_major": 2,
       "version_minor": 0
      },
      "text/plain": [
       "  0%|          | 0/2 [00:00<?, ?it/s]"
      ]
     },
     "metadata": {},
     "output_type": "display_data"
    },
    {
     "name": "stdout",
     "output_type": "stream",
     "text": [
      "{'eval_loss': 2.758768320083618, 'eval_accuracy': 0.58, 'eval_runtime': 0.6407, 'eval_samples_per_second': 78.043, 'eval_steps_per_second': 3.122, 'epoch': 43.0}\n"
     ]
    },
    {
     "data": {
      "application/vnd.jupyter.widget-view+json": {
       "model_id": "6acb5f7157db4b9bb61ccaaa0e654d78",
       "version_major": 2,
       "version_minor": 0
      },
      "text/plain": [
       "  0%|          | 0/2 [00:00<?, ?it/s]"
      ]
     },
     "metadata": {},
     "output_type": "display_data"
    },
    {
     "name": "stdout",
     "output_type": "stream",
     "text": [
      "{'eval_loss': 2.762705087661743, 'eval_accuracy': 0.58, 'eval_runtime': 0.6695, 'eval_samples_per_second': 74.684, 'eval_steps_per_second': 2.987, 'epoch': 44.0}\n",
      "{'loss': 0.0003, 'grad_norm': 0.004926219116896391, 'learning_rate': 5.7142857142857145e-06, 'epoch': 44.29}\n"
     ]
    },
    {
     "data": {
      "application/vnd.jupyter.widget-view+json": {
       "model_id": "41446fa9843c41018a774928cd3a9ca5",
       "version_major": 2,
       "version_minor": 0
      },
      "text/plain": [
       "  0%|          | 0/2 [00:00<?, ?it/s]"
      ]
     },
     "metadata": {},
     "output_type": "display_data"
    },
    {
     "name": "stdout",
     "output_type": "stream",
     "text": [
      "{'eval_loss': 2.7657926082611084, 'eval_accuracy': 0.58, 'eval_runtime': 0.8487, 'eval_samples_per_second': 58.915, 'eval_steps_per_second': 2.357, 'epoch': 45.0}\n",
      "{'loss': 0.0003, 'grad_norm': 0.005157209932804108, 'learning_rate': 4.285714285714286e-06, 'epoch': 45.71}\n"
     ]
    },
    {
     "data": {
      "application/vnd.jupyter.widget-view+json": {
       "model_id": "cb38178ddd394ccbb4b8182b4f112c6b",
       "version_major": 2,
       "version_minor": 0
      },
      "text/plain": [
       "  0%|          | 0/2 [00:00<?, ?it/s]"
      ]
     },
     "metadata": {},
     "output_type": "display_data"
    },
    {
     "name": "stdout",
     "output_type": "stream",
     "text": [
      "{'eval_loss': 2.768049955368042, 'eval_accuracy': 0.58, 'eval_runtime': 0.601, 'eval_samples_per_second': 83.199, 'eval_steps_per_second': 3.328, 'epoch': 46.0}\n"
     ]
    },
    {
     "data": {
      "application/vnd.jupyter.widget-view+json": {
       "model_id": "1b3945d562cd42b891167c03dc3f5589",
       "version_major": 2,
       "version_minor": 0
      },
      "text/plain": [
       "  0%|          | 0/2 [00:00<?, ?it/s]"
      ]
     },
     "metadata": {},
     "output_type": "display_data"
    },
    {
     "name": "stdout",
     "output_type": "stream",
     "text": [
      "{'eval_loss': 2.7698822021484375, 'eval_accuracy': 0.58, 'eval_runtime': 0.6354, 'eval_samples_per_second': 78.686, 'eval_steps_per_second': 3.147, 'epoch': 47.0}\n",
      "{'loss': 0.0003, 'grad_norm': 0.004976932425051928, 'learning_rate': 2.8571428571428573e-06, 'epoch': 47.14}\n"
     ]
    },
    {
     "data": {
      "application/vnd.jupyter.widget-view+json": {
       "model_id": "4d95fbe981c2476ea6c7ac0576f34acc",
       "version_major": 2,
       "version_minor": 0
      },
      "text/plain": [
       "  0%|          | 0/2 [00:00<?, ?it/s]"
      ]
     },
     "metadata": {},
     "output_type": "display_data"
    },
    {
     "name": "stdout",
     "output_type": "stream",
     "text": [
      "{'eval_loss': 2.7712526321411133, 'eval_accuracy': 0.58, 'eval_runtime': 0.5854, 'eval_samples_per_second': 85.418, 'eval_steps_per_second': 3.417, 'epoch': 48.0}\n",
      "{'loss': 0.0003, 'grad_norm': 0.004660893231630325, 'learning_rate': 1.4285714285714286e-06, 'epoch': 48.57}\n"
     ]
    },
    {
     "data": {
      "application/vnd.jupyter.widget-view+json": {
       "model_id": "db17e939082e4adf980c300d30ffc145",
       "version_major": 2,
       "version_minor": 0
      },
      "text/plain": [
       "  0%|          | 0/2 [00:00<?, ?it/s]"
      ]
     },
     "metadata": {},
     "output_type": "display_data"
    },
    {
     "name": "stdout",
     "output_type": "stream",
     "text": [
      "{'eval_loss': 2.772052049636841, 'eval_accuracy': 0.58, 'eval_runtime': 0.5665, 'eval_samples_per_second': 88.261, 'eval_steps_per_second': 3.53, 'epoch': 49.0}\n",
      "{'loss': 0.0003, 'grad_norm': 0.0049386415630578995, 'learning_rate': 0.0, 'epoch': 50.0}\n"
     ]
    },
    {
     "data": {
      "application/vnd.jupyter.widget-view+json": {
       "model_id": "f7279f642cbf48d1abfa1f503106268b",
       "version_major": 2,
       "version_minor": 0
      },
      "text/plain": [
       "  0%|          | 0/2 [00:00<?, ?it/s]"
      ]
     },
     "metadata": {},
     "output_type": "display_data"
    },
    {
     "name": "stdout",
     "output_type": "stream",
     "text": [
      "{'eval_loss': 2.772334098815918, 'eval_accuracy': 0.58, 'eval_runtime': 0.7107, 'eval_samples_per_second': 70.356, 'eval_steps_per_second': 2.814, 'epoch': 50.0}\n",
      "{'train_runtime': 438.5294, 'train_samples_per_second': 22.803, 'train_steps_per_second': 0.798, 'train_loss': 0.05095987924840301, 'epoch': 50.0}\n"
     ]
    },
    {
     "data": {
      "text/plain": [
       "TrainOutput(global_step=350, training_loss=0.05095987924840301, metrics={'train_runtime': 438.5294, 'train_samples_per_second': 22.803, 'train_steps_per_second': 0.798, 'total_flos': 1324673986560000.0, 'train_loss': 0.05095987924840301, 'epoch': 50.0})"
      ]
     },
     "execution_count": 25,
     "metadata": {},
     "output_type": "execute_result"
    }
   ],
   "source": [
    "trainer = Trainer(\n",
    "    model=model,\n",
    "    args=training_args,\n",
    "    train_dataset=tokenized_train,\n",
    "    eval_dataset=tokenized_test,\n",
    "    tokenizer=tokenizer,\n",
    "    data_collator=data_collator,\n",
    "    compute_metrics=compute_metrics\n",
    ")\n",
    "\n",
    "trainer.train()"
   ]
  },
  {
   "cell_type": "code",
   "execution_count": 26,
   "metadata": {},
   "outputs": [
    {
     "data": {
      "application/vnd.jupyter.widget-view+json": {
       "model_id": "497e237ea63b4f099a3f8639a1df284f",
       "version_major": 2,
       "version_minor": 0
      },
      "text/plain": [
       "  0%|          | 0/2 [00:00<?, ?it/s]"
      ]
     },
     "metadata": {},
     "output_type": "display_data"
    },
    {
     "name": "stdout",
     "output_type": "stream",
     "text": [
      "{'eval_loss': 0.6330229043960571, 'eval_accuracy': 0.62, 'eval_runtime': 0.6544, 'eval_samples_per_second': 76.405, 'eval_steps_per_second': 3.056, 'epoch': 50.0}\n"
     ]
    }
   ],
   "source": [
    "results = trainer.evaluate()\n",
    "print(results)"
   ]
  },
  {
   "cell_type": "code",
   "execution_count": 29,
   "metadata": {},
   "outputs": [
    {
     "name": "stdout",
     "output_type": "stream",
     "text": [
      "Accuracy: 0.62\n"
     ]
    }
   ],
   "source": [
    "print(\"Accuracy:\", results['eval_accuracy'])"
   ]
  },
  {
   "cell_type": "markdown",
   "metadata": {},
   "source": [
    "### 7. Test the fine-tuned model on a few new sentences (not in the training/validation set) and observe its predictions. Print both the input and the predicted sentiment."
   ]
  },
  {
   "cell_type": "code",
   "execution_count": 27,
   "metadata": {},
   "outputs": [
    {
     "name": "stdout",
     "output_type": "stream",
     "text": [
      "\n",
      "Sentence: This movie was fantastic! I loved every minute of it.\n",
      "Predicted Sentiment: Positive\n",
      "\n",
      "Sentence: What a waste of time. The plot was dull and uninteresting.\n",
      "Predicted Sentiment: Negative\n",
      "\n",
      "Sentence: An average film with some good moments.\n",
      "Predicted Sentiment: Negative\n"
     ]
    }
   ],
   "source": [
    "new_sentences = [\n",
    "    \"This movie was fantastic! I loved every minute of it.\",\n",
    "    \"What a waste of time. The plot was dull and uninteresting.\",\n",
    "    \"An average film with some good moments.\"\n",
    "]\n",
    "\n",
    "new_inputs = tokenizer(new_sentences, padding=True, truncation=True, return_tensors='pt').to(device)\n",
    "\n",
    "with torch.no_grad():\n",
    "    outputs = model(**new_inputs)\n",
    "    logits = outputs.logits\n",
    "    predictions = torch.argmax(logits, dim=-1)\n",
    "\n",
    "label_map = {0: 'Negative', 1: 'Positive'}\n",
    "\n",
    "for sentence, pred in zip(new_sentences, predictions):\n",
    "    print(f\"\\nSentence: {sentence}\")\n",
    "    print(f\"Predicted Sentiment: {label_map[pred.item()]}\")\n"
   ]
  },
  {
   "cell_type": "markdown",
   "metadata": {},
   "source": [
    "### ```Additionally checking the accuracy by training the model for 3 epochs on the entire dataset```"
   ]
  },
  {
   "cell_type": "code",
   "execution_count": 28,
   "metadata": {},
   "outputs": [
    {
     "data": {
      "application/vnd.jupyter.widget-view+json": {
       "model_id": "bf5391c2524c4deaaa840f085f14667d",
       "version_major": 2,
       "version_minor": 0
      },
      "text/plain": [
       "Map:   0%|          | 0/25000 [00:00<?, ? examples/s]"
      ]
     },
     "metadata": {},
     "output_type": "display_data"
    },
    {
     "data": {
      "application/vnd.jupyter.widget-view+json": {
       "model_id": "904096bdd9ac41fa86acd1ab4c28ab3a",
       "version_major": 2,
       "version_minor": 0
      },
      "text/plain": [
       "Map:   0%|          | 0/25000 [00:00<?, ? examples/s]"
      ]
     },
     "metadata": {},
     "output_type": "display_data"
    },
    {
     "name": "stderr",
     "output_type": "stream",
     "text": [
      "Some weights of DistilBertForSequenceClassification were not initialized from the model checkpoint at distilbert/distilbert-base-uncased and are newly initialized: ['classifier.bias', 'classifier.weight', 'pre_classifier.bias', 'pre_classifier.weight']\n",
      "You should probably TRAIN this model on a down-stream task to be able to use it for predictions and inference.\n",
      "/var/folders/01/jf33y2q50rj3dzgjq71ytt_80000gn/T/ipykernel_98954/4232409583.py:24: FutureWarning: `tokenizer` is deprecated and will be removed in version 5.0.0 for `Trainer.__init__`. Use `processing_class` instead.\n",
      "  trainer = Trainer(\n"
     ]
    },
    {
     "data": {
      "application/vnd.jupyter.widget-view+json": {
       "model_id": "8b1268553402445f87f5c65d2836cdeb",
       "version_major": 2,
       "version_minor": 0
      },
      "text/plain": [
       "  0%|          | 0/2346 [00:00<?, ?it/s]"
      ]
     },
     "metadata": {},
     "output_type": "display_data"
    },
    {
     "name": "stdout",
     "output_type": "stream",
     "text": [
      "{'loss': 0.6962, 'grad_norm': 0.581632673740387, 'learning_rate': 4.9786871270247234e-05, 'epoch': 0.01}\n",
      "{'loss': 0.6575, 'grad_norm': 2.4042141437530518, 'learning_rate': 4.957374254049446e-05, 'epoch': 0.03}\n",
      "{'loss': 0.5774, 'grad_norm': 8.75777530670166, 'learning_rate': 4.936061381074169e-05, 'epoch': 0.04}\n",
      "{'loss': 0.3971, 'grad_norm': 7.970410346984863, 'learning_rate': 4.914748508098892e-05, 'epoch': 0.05}\n",
      "{'loss': 0.3036, 'grad_norm': 7.598392009735107, 'learning_rate': 4.893435635123615e-05, 'epoch': 0.06}\n",
      "{'loss': 0.3029, 'grad_norm': 17.06102752685547, 'learning_rate': 4.872122762148338e-05, 'epoch': 0.08}\n",
      "{'loss': 0.3658, 'grad_norm': 5.587943077087402, 'learning_rate': 4.850809889173061e-05, 'epoch': 0.09}\n",
      "{'loss': 0.309, 'grad_norm': 4.550342559814453, 'learning_rate': 4.8294970161977835e-05, 'epoch': 0.1}\n",
      "{'loss': 0.31, 'grad_norm': 2.641946315765381, 'learning_rate': 4.8081841432225067e-05, 'epoch': 0.12}\n",
      "{'loss': 0.2944, 'grad_norm': 7.626326560974121, 'learning_rate': 4.78687127024723e-05, 'epoch': 0.13}\n",
      "{'loss': 0.294, 'grad_norm': 6.31688928604126, 'learning_rate': 4.765558397271952e-05, 'epoch': 0.14}\n",
      "{'loss': 0.3148, 'grad_norm': 4.829029560089111, 'learning_rate': 4.7442455242966755e-05, 'epoch': 0.15}\n",
      "{'loss': 0.3498, 'grad_norm': 9.906102180480957, 'learning_rate': 4.7229326513213986e-05, 'epoch': 0.17}\n",
      "{'loss': 0.2968, 'grad_norm': 7.783349514007568, 'learning_rate': 4.701619778346121e-05, 'epoch': 0.18}\n",
      "{'loss': 0.2928, 'grad_norm': 7.760148048400879, 'learning_rate': 4.680306905370844e-05, 'epoch': 0.19}\n",
      "{'loss': 0.3046, 'grad_norm': 3.2344648838043213, 'learning_rate': 4.6589940323955674e-05, 'epoch': 0.2}\n",
      "{'loss': 0.2723, 'grad_norm': 2.450923204421997, 'learning_rate': 4.63768115942029e-05, 'epoch': 0.22}\n",
      "{'loss': 0.2749, 'grad_norm': 9.536571502685547, 'learning_rate': 4.616368286445013e-05, 'epoch': 0.23}\n",
      "{'loss': 0.2222, 'grad_norm': 3.513849973678589, 'learning_rate': 4.595055413469736e-05, 'epoch': 0.24}\n",
      "{'loss': 0.2817, 'grad_norm': 7.7559356689453125, 'learning_rate': 4.573742540494459e-05, 'epoch': 0.26}\n",
      "{'loss': 0.2873, 'grad_norm': 4.266652584075928, 'learning_rate': 4.552429667519182e-05, 'epoch': 0.27}\n",
      "{'loss': 0.2145, 'grad_norm': 2.3618671894073486, 'learning_rate': 4.531116794543905e-05, 'epoch': 0.28}\n",
      "{'loss': 0.2574, 'grad_norm': 3.578969717025757, 'learning_rate': 4.5098039215686275e-05, 'epoch': 0.29}\n",
      "{'loss': 0.3119, 'grad_norm': 7.657861232757568, 'learning_rate': 4.488491048593351e-05, 'epoch': 0.31}\n",
      "{'loss': 0.2707, 'grad_norm': 3.6141767501831055, 'learning_rate': 4.467178175618074e-05, 'epoch': 0.32}\n",
      "{'loss': 0.1923, 'grad_norm': 3.7065603733062744, 'learning_rate': 4.445865302642796e-05, 'epoch': 0.33}\n",
      "{'loss': 0.2503, 'grad_norm': 3.1523468494415283, 'learning_rate': 4.4245524296675195e-05, 'epoch': 0.35}\n",
      "{'loss': 0.2263, 'grad_norm': 2.6516833305358887, 'learning_rate': 4.4032395566922426e-05, 'epoch': 0.36}\n",
      "{'loss': 0.2646, 'grad_norm': 3.116626262664795, 'learning_rate': 4.381926683716965e-05, 'epoch': 0.37}\n",
      "{'loss': 0.2873, 'grad_norm': 4.25570821762085, 'learning_rate': 4.360613810741688e-05, 'epoch': 0.38}\n",
      "{'loss': 0.2868, 'grad_norm': 2.8346168994903564, 'learning_rate': 4.3393009377664114e-05, 'epoch': 0.4}\n",
      "{'loss': 0.2305, 'grad_norm': 2.8258142471313477, 'learning_rate': 4.317988064791134e-05, 'epoch': 0.41}\n",
      "{'loss': 0.2986, 'grad_norm': 2.5982701778411865, 'learning_rate': 4.296675191815857e-05, 'epoch': 0.42}\n",
      "{'loss': 0.1954, 'grad_norm': 3.8653147220611572, 'learning_rate': 4.27536231884058e-05, 'epoch': 0.43}\n",
      "{'loss': 0.2783, 'grad_norm': 5.017197132110596, 'learning_rate': 4.254049445865303e-05, 'epoch': 0.45}\n",
      "{'loss': 0.2557, 'grad_norm': 4.215771675109863, 'learning_rate': 4.232736572890026e-05, 'epoch': 0.46}\n",
      "{'loss': 0.2295, 'grad_norm': 4.833434104919434, 'learning_rate': 4.211423699914749e-05, 'epoch': 0.47}\n",
      "{'loss': 0.2593, 'grad_norm': 3.739687204360962, 'learning_rate': 4.1901108269394715e-05, 'epoch': 0.49}\n",
      "{'loss': 0.3133, 'grad_norm': 4.504436016082764, 'learning_rate': 4.168797953964195e-05, 'epoch': 0.5}\n",
      "{'loss': 0.2314, 'grad_norm': 3.0645697116851807, 'learning_rate': 4.147485080988918e-05, 'epoch': 0.51}\n",
      "{'loss': 0.2319, 'grad_norm': 2.345334529876709, 'learning_rate': 4.12617220801364e-05, 'epoch': 0.52}\n",
      "{'loss': 0.2269, 'grad_norm': 1.8979525566101074, 'learning_rate': 4.1048593350383635e-05, 'epoch': 0.54}\n",
      "{'loss': 0.2667, 'grad_norm': 3.3532874584198, 'learning_rate': 4.0835464620630866e-05, 'epoch': 0.55}\n",
      "{'loss': 0.2272, 'grad_norm': 7.312101364135742, 'learning_rate': 4.062233589087809e-05, 'epoch': 0.56}\n",
      "{'loss': 0.2496, 'grad_norm': 5.963400363922119, 'learning_rate': 4.040920716112532e-05, 'epoch': 0.58}\n",
      "{'loss': 0.2888, 'grad_norm': 1.3899139165878296, 'learning_rate': 4.0196078431372555e-05, 'epoch': 0.59}\n",
      "{'loss': 0.2815, 'grad_norm': 4.271994113922119, 'learning_rate': 3.998294970161978e-05, 'epoch': 0.6}\n",
      "{'loss': 0.2527, 'grad_norm': 6.024453639984131, 'learning_rate': 3.976982097186701e-05, 'epoch': 0.61}\n",
      "{'loss': 0.2882, 'grad_norm': 3.058884859085083, 'learning_rate': 3.955669224211424e-05, 'epoch': 0.63}\n",
      "{'loss': 0.1908, 'grad_norm': 3.2192490100860596, 'learning_rate': 3.934356351236147e-05, 'epoch': 0.64}\n",
      "{'loss': 0.2007, 'grad_norm': 3.364030599594116, 'learning_rate': 3.91304347826087e-05, 'epoch': 0.65}\n",
      "{'loss': 0.2587, 'grad_norm': 2.926877021789551, 'learning_rate': 3.891730605285593e-05, 'epoch': 0.66}\n",
      "{'loss': 0.2118, 'grad_norm': 6.344799995422363, 'learning_rate': 3.8704177323103155e-05, 'epoch': 0.68}\n",
      "{'loss': 0.2386, 'grad_norm': 3.638432025909424, 'learning_rate': 3.849104859335039e-05, 'epoch': 0.69}\n",
      "{'loss': 0.2037, 'grad_norm': 2.848500967025757, 'learning_rate': 3.827791986359762e-05, 'epoch': 0.7}\n",
      "{'loss': 0.1899, 'grad_norm': 7.575211524963379, 'learning_rate': 3.8064791133844843e-05, 'epoch': 0.72}\n",
      "{'loss': 0.2427, 'grad_norm': 3.3729372024536133, 'learning_rate': 3.7851662404092075e-05, 'epoch': 0.73}\n",
      "{'loss': 0.2285, 'grad_norm': 2.605766534805298, 'learning_rate': 3.763853367433931e-05, 'epoch': 0.74}\n",
      "{'loss': 0.2582, 'grad_norm': 6.253223419189453, 'learning_rate': 3.742540494458653e-05, 'epoch': 0.75}\n",
      "{'loss': 0.255, 'grad_norm': 8.820171356201172, 'learning_rate': 3.721227621483376e-05, 'epoch': 0.77}\n",
      "{'loss': 0.1691, 'grad_norm': 4.8972086906433105, 'learning_rate': 3.6999147485080995e-05, 'epoch': 0.78}\n",
      "{'loss': 0.1947, 'grad_norm': 2.1141045093536377, 'learning_rate': 3.678601875532822e-05, 'epoch': 0.79}\n",
      "{'loss': 0.224, 'grad_norm': 7.778678894042969, 'learning_rate': 3.657289002557545e-05, 'epoch': 0.81}\n",
      "{'loss': 0.1849, 'grad_norm': 3.2459475994110107, 'learning_rate': 3.635976129582268e-05, 'epoch': 0.82}\n",
      "{'loss': 0.2185, 'grad_norm': 3.6220312118530273, 'learning_rate': 3.614663256606991e-05, 'epoch': 0.83}\n",
      "{'loss': 0.1502, 'grad_norm': 4.763155460357666, 'learning_rate': 3.593350383631714e-05, 'epoch': 0.84}\n",
      "{'loss': 0.239, 'grad_norm': 5.631709098815918, 'learning_rate': 3.572037510656437e-05, 'epoch': 0.86}\n",
      "{'loss': 0.2203, 'grad_norm': 2.4932355880737305, 'learning_rate': 3.5507246376811596e-05, 'epoch': 0.87}\n",
      "{'loss': 0.2202, 'grad_norm': 5.33268928527832, 'learning_rate': 3.529411764705883e-05, 'epoch': 0.88}\n",
      "{'loss': 0.1924, 'grad_norm': 3.320298194885254, 'learning_rate': 3.508098891730606e-05, 'epoch': 0.9}\n",
      "{'loss': 0.2195, 'grad_norm': 2.6212146282196045, 'learning_rate': 3.4867860187553284e-05, 'epoch': 0.91}\n",
      "{'loss': 0.267, 'grad_norm': 8.189600944519043, 'learning_rate': 3.4654731457800515e-05, 'epoch': 0.92}\n",
      "{'loss': 0.1481, 'grad_norm': 3.1549413204193115, 'learning_rate': 3.444160272804775e-05, 'epoch': 0.93}\n",
      "{'loss': 0.2392, 'grad_norm': 5.406429290771484, 'learning_rate': 3.422847399829497e-05, 'epoch': 0.95}\n",
      "{'loss': 0.2232, 'grad_norm': 5.321578502655029, 'learning_rate': 3.40153452685422e-05, 'epoch': 0.96}\n",
      "{'loss': 0.2581, 'grad_norm': 7.830976486206055, 'learning_rate': 3.3802216538789435e-05, 'epoch': 0.97}\n",
      "{'loss': 0.2168, 'grad_norm': 2.8798961639404297, 'learning_rate': 3.358908780903666e-05, 'epoch': 0.98}\n",
      "{'loss': 0.2192, 'grad_norm': 1.9034594297409058, 'learning_rate': 3.337595907928389e-05, 'epoch': 1.0}\n"
     ]
    },
    {
     "data": {
      "application/vnd.jupyter.widget-view+json": {
       "model_id": "39693f607c074697911d2699c0450db2",
       "version_major": 2,
       "version_minor": 0
      },
      "text/plain": [
       "  0%|          | 0/782 [00:00<?, ?it/s]"
      ]
     },
     "metadata": {},
     "output_type": "display_data"
    },
    {
     "name": "stdout",
     "output_type": "stream",
     "text": [
      "{'eval_loss': 0.20838667452335358, 'eval_accuracy': 0.9176, 'eval_runtime': 294.0916, 'eval_samples_per_second': 85.008, 'eval_steps_per_second': 2.659, 'epoch': 1.0}\n",
      "{'loss': 0.1295, 'grad_norm': 4.091047763824463, 'learning_rate': 3.316283034953112e-05, 'epoch': 1.01}\n",
      "{'loss': 0.1054, 'grad_norm': 5.312215805053711, 'learning_rate': 3.294970161977835e-05, 'epoch': 1.02}\n",
      "{'loss': 0.1301, 'grad_norm': 3.2413785457611084, 'learning_rate': 3.273657289002558e-05, 'epoch': 1.04}\n",
      "{'loss': 0.1984, 'grad_norm': 6.837656497955322, 'learning_rate': 3.252344416027281e-05, 'epoch': 1.05}\n",
      "{'loss': 0.1308, 'grad_norm': 4.515942573547363, 'learning_rate': 3.2310315430520036e-05, 'epoch': 1.06}\n",
      "{'loss': 0.1586, 'grad_norm': 2.6825687885284424, 'learning_rate': 3.209718670076726e-05, 'epoch': 1.07}\n",
      "{'loss': 0.1022, 'grad_norm': 3.8952393531799316, 'learning_rate': 3.188405797101449e-05, 'epoch': 1.09}\n",
      "{'loss': 0.1503, 'grad_norm': 2.707221508026123, 'learning_rate': 3.1670929241261724e-05, 'epoch': 1.1}\n",
      "{'loss': 0.1426, 'grad_norm': 7.964898109436035, 'learning_rate': 3.145780051150895e-05, 'epoch': 1.11}\n",
      "{'loss': 0.1324, 'grad_norm': 1.836843729019165, 'learning_rate': 3.124467178175618e-05, 'epoch': 1.13}\n",
      "{'loss': 0.0827, 'grad_norm': 3.5390210151672363, 'learning_rate': 3.103154305200341e-05, 'epoch': 1.14}\n",
      "{'loss': 0.0921, 'grad_norm': 1.2724559307098389, 'learning_rate': 3.081841432225064e-05, 'epoch': 1.15}\n",
      "{'loss': 0.1136, 'grad_norm': 7.321110725402832, 'learning_rate': 3.060528559249787e-05, 'epoch': 1.16}\n",
      "{'loss': 0.1499, 'grad_norm': 2.1664810180664062, 'learning_rate': 3.0392156862745097e-05, 'epoch': 1.18}\n",
      "{'loss': 0.2058, 'grad_norm': 3.880894899368286, 'learning_rate': 3.0179028132992325e-05, 'epoch': 1.19}\n",
      "{'loss': 0.1295, 'grad_norm': 2.5676403045654297, 'learning_rate': 2.9965899403239556e-05, 'epoch': 1.2}\n",
      "{'loss': 0.1558, 'grad_norm': 4.378523349761963, 'learning_rate': 2.9752770673486785e-05, 'epoch': 1.21}\n",
      "{'loss': 0.1084, 'grad_norm': 6.68254280090332, 'learning_rate': 2.9539641943734013e-05, 'epoch': 1.23}\n",
      "{'loss': 0.1246, 'grad_norm': 2.651284694671631, 'learning_rate': 2.9326513213981244e-05, 'epoch': 1.24}\n",
      "{'loss': 0.0965, 'grad_norm': 4.395573139190674, 'learning_rate': 2.9113384484228473e-05, 'epoch': 1.25}\n",
      "{'loss': 0.0932, 'grad_norm': 4.964892387390137, 'learning_rate': 2.89002557544757e-05, 'epoch': 1.27}\n",
      "{'loss': 0.1451, 'grad_norm': 0.694051206111908, 'learning_rate': 2.8687127024722932e-05, 'epoch': 1.28}\n",
      "{'loss': 0.112, 'grad_norm': 4.747104644775391, 'learning_rate': 2.847399829497016e-05, 'epoch': 1.29}\n",
      "{'loss': 0.1506, 'grad_norm': 6.058969497680664, 'learning_rate': 2.826086956521739e-05, 'epoch': 1.3}\n",
      "{'loss': 0.1278, 'grad_norm': 4.32359504699707, 'learning_rate': 2.804774083546462e-05, 'epoch': 1.32}\n",
      "{'loss': 0.0663, 'grad_norm': 3.3283274173736572, 'learning_rate': 2.783461210571185e-05, 'epoch': 1.33}\n",
      "{'loss': 0.1293, 'grad_norm': 2.2850441932678223, 'learning_rate': 2.7621483375959077e-05, 'epoch': 1.34}\n",
      "{'loss': 0.1374, 'grad_norm': 1.3285777568817139, 'learning_rate': 2.740835464620631e-05, 'epoch': 1.36}\n",
      "{'loss': 0.1299, 'grad_norm': 4.155958652496338, 'learning_rate': 2.7195225916453537e-05, 'epoch': 1.37}\n",
      "{'loss': 0.0868, 'grad_norm': 2.8269357681274414, 'learning_rate': 2.6982097186700765e-05, 'epoch': 1.38}\n",
      "{'loss': 0.1551, 'grad_norm': 4.063439846038818, 'learning_rate': 2.6768968456947997e-05, 'epoch': 1.39}\n",
      "{'loss': 0.0802, 'grad_norm': 8.828792572021484, 'learning_rate': 2.6555839727195225e-05, 'epoch': 1.41}\n",
      "{'loss': 0.1106, 'grad_norm': 6.482234477996826, 'learning_rate': 2.6342710997442456e-05, 'epoch': 1.42}\n",
      "{'loss': 0.0781, 'grad_norm': 5.038291931152344, 'learning_rate': 2.6129582267689685e-05, 'epoch': 1.43}\n",
      "{'loss': 0.1258, 'grad_norm': 8.02901554107666, 'learning_rate': 2.5916453537936913e-05, 'epoch': 1.45}\n",
      "{'loss': 0.1029, 'grad_norm': 8.018190383911133, 'learning_rate': 2.5703324808184144e-05, 'epoch': 1.46}\n",
      "{'loss': 0.1559, 'grad_norm': 6.658262729644775, 'learning_rate': 2.5490196078431373e-05, 'epoch': 1.47}\n",
      "{'loss': 0.1365, 'grad_norm': 2.3020176887512207, 'learning_rate': 2.52770673486786e-05, 'epoch': 1.48}\n",
      "{'loss': 0.1629, 'grad_norm': 1.5464298725128174, 'learning_rate': 2.5063938618925832e-05, 'epoch': 1.5}\n",
      "{'loss': 0.0634, 'grad_norm': 1.8007545471191406, 'learning_rate': 2.4850809889173064e-05, 'epoch': 1.51}\n",
      "{'loss': 0.0924, 'grad_norm': 2.825993776321411, 'learning_rate': 2.4637681159420292e-05, 'epoch': 1.52}\n",
      "{'loss': 0.1447, 'grad_norm': 0.8424546122550964, 'learning_rate': 2.442455242966752e-05, 'epoch': 1.53}\n",
      "{'loss': 0.1756, 'grad_norm': 4.722437858581543, 'learning_rate': 2.4211423699914752e-05, 'epoch': 1.55}\n",
      "{'loss': 0.1034, 'grad_norm': 4.0546064376831055, 'learning_rate': 2.399829497016198e-05, 'epoch': 1.56}\n",
      "{'loss': 0.1762, 'grad_norm': 8.080434799194336, 'learning_rate': 2.378516624040921e-05, 'epoch': 1.57}\n",
      "{'loss': 0.0656, 'grad_norm': 4.177277565002441, 'learning_rate': 2.357203751065644e-05, 'epoch': 1.59}\n",
      "{'loss': 0.1514, 'grad_norm': 5.576453685760498, 'learning_rate': 2.3358908780903668e-05, 'epoch': 1.6}\n",
      "{'loss': 0.1098, 'grad_norm': 3.7358522415161133, 'learning_rate': 2.3145780051150897e-05, 'epoch': 1.61}\n",
      "{'loss': 0.0872, 'grad_norm': 3.142862319946289, 'learning_rate': 2.2932651321398125e-05, 'epoch': 1.62}\n",
      "{'loss': 0.0795, 'grad_norm': 8.707120895385742, 'learning_rate': 2.2719522591645353e-05, 'epoch': 1.64}\n",
      "{'loss': 0.1268, 'grad_norm': 1.3056458234786987, 'learning_rate': 2.2506393861892585e-05, 'epoch': 1.65}\n",
      "{'loss': 0.1614, 'grad_norm': 6.172796249389648, 'learning_rate': 2.2293265132139813e-05, 'epoch': 1.66}\n",
      "{'loss': 0.1701, 'grad_norm': 5.395151138305664, 'learning_rate': 2.208013640238704e-05, 'epoch': 1.68}\n",
      "{'loss': 0.1333, 'grad_norm': 4.162224769592285, 'learning_rate': 2.1867007672634273e-05, 'epoch': 1.69}\n",
      "{'loss': 0.1097, 'grad_norm': 1.3537935018539429, 'learning_rate': 2.16538789428815e-05, 'epoch': 1.7}\n",
      "{'loss': 0.0811, 'grad_norm': 1.014225959777832, 'learning_rate': 2.144075021312873e-05, 'epoch': 1.71}\n",
      "{'loss': 0.123, 'grad_norm': 1.3605268001556396, 'learning_rate': 2.122762148337596e-05, 'epoch': 1.73}\n",
      "{'loss': 0.088, 'grad_norm': 1.876462697982788, 'learning_rate': 2.101449275362319e-05, 'epoch': 1.74}\n",
      "{'loss': 0.1496, 'grad_norm': 0.7333528399467468, 'learning_rate': 2.0801364023870417e-05, 'epoch': 1.75}\n",
      "{'loss': 0.0835, 'grad_norm': 3.921234607696533, 'learning_rate': 2.058823529411765e-05, 'epoch': 1.76}\n",
      "{'loss': 0.1483, 'grad_norm': 1.5123505592346191, 'learning_rate': 2.0375106564364877e-05, 'epoch': 1.78}\n",
      "{'loss': 0.1023, 'grad_norm': 0.3183598220348358, 'learning_rate': 2.0161977834612105e-05, 'epoch': 1.79}\n",
      "{'loss': 0.0993, 'grad_norm': 4.206672668457031, 'learning_rate': 1.9948849104859337e-05, 'epoch': 1.8}\n",
      "{'loss': 0.0751, 'grad_norm': 3.742685079574585, 'learning_rate': 1.9735720375106565e-05, 'epoch': 1.82}\n",
      "{'loss': 0.1026, 'grad_norm': 4.466678619384766, 'learning_rate': 1.9522591645353793e-05, 'epoch': 1.83}\n",
      "{'loss': 0.0935, 'grad_norm': 2.320347785949707, 'learning_rate': 1.9309462915601025e-05, 'epoch': 1.84}\n",
      "{'loss': 0.1369, 'grad_norm': 3.933209180831909, 'learning_rate': 1.9096334185848253e-05, 'epoch': 1.85}\n",
      "{'loss': 0.1072, 'grad_norm': 9.172785758972168, 'learning_rate': 1.888320545609548e-05, 'epoch': 1.87}\n",
      "{'loss': 0.1291, 'grad_norm': 0.8923506140708923, 'learning_rate': 1.8670076726342713e-05, 'epoch': 1.88}\n",
      "{'loss': 0.0902, 'grad_norm': 2.5640769004821777, 'learning_rate': 1.845694799658994e-05, 'epoch': 1.89}\n",
      "{'loss': 0.107, 'grad_norm': 6.743984222412109, 'learning_rate': 1.824381926683717e-05, 'epoch': 1.91}\n",
      "{'loss': 0.0641, 'grad_norm': 2.233302354812622, 'learning_rate': 1.80306905370844e-05, 'epoch': 1.92}\n",
      "{'loss': 0.1078, 'grad_norm': 2.401780366897583, 'learning_rate': 1.781756180733163e-05, 'epoch': 1.93}\n",
      "{'loss': 0.1713, 'grad_norm': 5.396084308624268, 'learning_rate': 1.7604433077578857e-05, 'epoch': 1.94}\n",
      "{'loss': 0.1125, 'grad_norm': 3.8385510444641113, 'learning_rate': 1.739130434782609e-05, 'epoch': 1.96}\n",
      "{'loss': 0.0991, 'grad_norm': 5.668750762939453, 'learning_rate': 1.7178175618073317e-05, 'epoch': 1.97}\n",
      "{'loss': 0.0928, 'grad_norm': 2.064039707183838, 'learning_rate': 1.6965046888320545e-05, 'epoch': 1.98}\n",
      "{'loss': 0.1178, 'grad_norm': 2.97074031829834, 'learning_rate': 1.6751918158567777e-05, 'epoch': 1.99}\n"
     ]
    },
    {
     "data": {
      "application/vnd.jupyter.widget-view+json": {
       "model_id": "c700c21560d14c688a0d79abedd0cebe",
       "version_major": 2,
       "version_minor": 0
      },
      "text/plain": [
       "  0%|          | 0/782 [00:00<?, ?it/s]"
      ]
     },
     "metadata": {},
     "output_type": "display_data"
    },
    {
     "name": "stdout",
     "output_type": "stream",
     "text": [
      "{'eval_loss': 0.2059822827577591, 'eval_accuracy': 0.93228, 'eval_runtime': 301.3247, 'eval_samples_per_second': 82.967, 'eval_steps_per_second': 2.595, 'epoch': 2.0}\n",
      "{'loss': 0.1411, 'grad_norm': 5.272259712219238, 'learning_rate': 1.6538789428815005e-05, 'epoch': 2.01}\n",
      "{'loss': 0.0388, 'grad_norm': 3.0963997840881348, 'learning_rate': 1.6325660699062233e-05, 'epoch': 2.02}\n",
      "{'loss': 0.0221, 'grad_norm': 0.10902952402830124, 'learning_rate': 1.6112531969309465e-05, 'epoch': 2.03}\n",
      "{'loss': 0.031, 'grad_norm': 6.9734673500061035, 'learning_rate': 1.5899403239556693e-05, 'epoch': 2.05}\n",
      "{'loss': 0.0107, 'grad_norm': 0.05837460979819298, 'learning_rate': 1.568627450980392e-05, 'epoch': 2.06}\n",
      "{'loss': 0.0357, 'grad_norm': 6.696451187133789, 'learning_rate': 1.5473145780051153e-05, 'epoch': 2.07}\n",
      "{'loss': 0.1112, 'grad_norm': 1.608903408050537, 'learning_rate': 1.526001705029838e-05, 'epoch': 2.08}\n",
      "{'loss': 0.0524, 'grad_norm': 2.1577959060668945, 'learning_rate': 1.504688832054561e-05, 'epoch': 2.1}\n",
      "{'loss': 0.0288, 'grad_norm': 6.785597801208496, 'learning_rate': 1.483375959079284e-05, 'epoch': 2.11}\n",
      "{'loss': 0.0776, 'grad_norm': 8.635498046875, 'learning_rate': 1.462063086104007e-05, 'epoch': 2.12}\n",
      "{'loss': 0.0819, 'grad_norm': 1.1617666482925415, 'learning_rate': 1.4407502131287297e-05, 'epoch': 2.14}\n",
      "{'loss': 0.0319, 'grad_norm': 10.672779083251953, 'learning_rate': 1.4194373401534527e-05, 'epoch': 2.15}\n",
      "{'loss': 0.0147, 'grad_norm': 4.0334672927856445, 'learning_rate': 1.3981244671781757e-05, 'epoch': 2.16}\n",
      "{'loss': 0.0555, 'grad_norm': 5.130776405334473, 'learning_rate': 1.3768115942028985e-05, 'epoch': 2.17}\n",
      "{'loss': 0.0613, 'grad_norm': 1.2034143209457397, 'learning_rate': 1.3554987212276215e-05, 'epoch': 2.19}\n",
      "{'loss': 0.0737, 'grad_norm': 0.21950124204158783, 'learning_rate': 1.3341858482523445e-05, 'epoch': 2.2}\n",
      "{'loss': 0.0406, 'grad_norm': 6.093236923217773, 'learning_rate': 1.3128729752770673e-05, 'epoch': 2.21}\n",
      "{'loss': 0.0527, 'grad_norm': 3.2145962715148926, 'learning_rate': 1.2915601023017903e-05, 'epoch': 2.23}\n",
      "{'loss': 0.0152, 'grad_norm': 0.15899793803691864, 'learning_rate': 1.2702472293265133e-05, 'epoch': 2.24}\n",
      "{'loss': 0.0405, 'grad_norm': 0.2642425000667572, 'learning_rate': 1.2489343563512362e-05, 'epoch': 2.25}\n",
      "{'loss': 0.0681, 'grad_norm': 0.06324992328882217, 'learning_rate': 1.2276214833759591e-05, 'epoch': 2.26}\n",
      "{'loss': 0.0298, 'grad_norm': 0.06294238567352295, 'learning_rate': 1.2063086104006821e-05, 'epoch': 2.28}\n",
      "{'loss': 0.0738, 'grad_norm': 2.0848305225372314, 'learning_rate': 1.1849957374254051e-05, 'epoch': 2.29}\n",
      "{'loss': 0.1189, 'grad_norm': 5.867205619812012, 'learning_rate': 1.163682864450128e-05, 'epoch': 2.3}\n",
      "{'loss': 0.0127, 'grad_norm': 0.7709100842475891, 'learning_rate': 1.142369991474851e-05, 'epoch': 2.31}\n",
      "{'loss': 0.0587, 'grad_norm': 0.08907479792833328, 'learning_rate': 1.121057118499574e-05, 'epoch': 2.33}\n",
      "{'loss': 0.0242, 'grad_norm': 0.1014530286192894, 'learning_rate': 1.0997442455242967e-05, 'epoch': 2.34}\n",
      "{'loss': 0.0207, 'grad_norm': 7.850470542907715, 'learning_rate': 1.0784313725490197e-05, 'epoch': 2.35}\n",
      "{'loss': 0.0649, 'grad_norm': 4.346634387969971, 'learning_rate': 1.0571184995737427e-05, 'epoch': 2.37}\n",
      "{'loss': 0.0272, 'grad_norm': 4.776686668395996, 'learning_rate': 1.0358056265984656e-05, 'epoch': 2.38}\n",
      "{'loss': 0.0484, 'grad_norm': 18.017290115356445, 'learning_rate': 1.0144927536231885e-05, 'epoch': 2.39}\n",
      "{'loss': 0.0131, 'grad_norm': 1.6772314310073853, 'learning_rate': 9.931798806479115e-06, 'epoch': 2.4}\n",
      "{'loss': 0.0269, 'grad_norm': 0.061518989503383636, 'learning_rate': 9.718670076726342e-06, 'epoch': 2.42}\n",
      "{'loss': 0.0755, 'grad_norm': 4.970836162567139, 'learning_rate': 9.505541346973572e-06, 'epoch': 2.43}\n",
      "{'loss': 0.0323, 'grad_norm': 0.12281095236539841, 'learning_rate': 9.292412617220802e-06, 'epoch': 2.44}\n",
      "{'loss': 0.004, 'grad_norm': 0.44014737010002136, 'learning_rate': 9.07928388746803e-06, 'epoch': 2.46}\n",
      "{'loss': 0.0999, 'grad_norm': 15.240011215209961, 'learning_rate': 8.86615515771526e-06, 'epoch': 2.47}\n",
      "{'loss': 0.0198, 'grad_norm': 0.1384987086057663, 'learning_rate': 8.65302642796249e-06, 'epoch': 2.48}\n",
      "{'loss': 0.0289, 'grad_norm': 0.11163418740034103, 'learning_rate': 8.439897698209718e-06, 'epoch': 2.49}\n",
      "{'loss': 0.0833, 'grad_norm': 0.13445305824279785, 'learning_rate': 8.226768968456948e-06, 'epoch': 2.51}\n",
      "{'loss': 0.0448, 'grad_norm': 0.22827443480491638, 'learning_rate': 8.013640238704178e-06, 'epoch': 2.52}\n",
      "{'loss': 0.0487, 'grad_norm': 0.046956583857536316, 'learning_rate': 7.800511508951406e-06, 'epoch': 2.53}\n",
      "{'loss': 0.0475, 'grad_norm': 0.23352651298046112, 'learning_rate': 7.587382779198636e-06, 'epoch': 2.54}\n",
      "{'loss': 0.062, 'grad_norm': 2.0351500511169434, 'learning_rate': 7.374254049445865e-06, 'epoch': 2.56}\n",
      "{'loss': 0.0962, 'grad_norm': 12.114897727966309, 'learning_rate': 7.161125319693095e-06, 'epoch': 2.57}\n",
      "{'loss': 0.0279, 'grad_norm': 0.41199806332588196, 'learning_rate': 6.947996589940324e-06, 'epoch': 2.58}\n",
      "{'loss': 0.0062, 'grad_norm': 0.2350897490978241, 'learning_rate': 6.734867860187553e-06, 'epoch': 2.6}\n",
      "{'loss': 0.0531, 'grad_norm': 0.7557831406593323, 'learning_rate': 6.521739130434783e-06, 'epoch': 2.61}\n",
      "{'loss': 0.0506, 'grad_norm': 14.845118522644043, 'learning_rate': 6.308610400682012e-06, 'epoch': 2.62}\n",
      "{'loss': 0.0759, 'grad_norm': 0.07606666535139084, 'learning_rate': 6.095481670929242e-06, 'epoch': 2.63}\n",
      "{'loss': 0.0191, 'grad_norm': 3.5645382404327393, 'learning_rate': 5.882352941176471e-06, 'epoch': 2.65}\n",
      "{'loss': 0.1058, 'grad_norm': 0.21880009770393372, 'learning_rate': 5.6692242114237e-06, 'epoch': 2.66}\n",
      "{'loss': 0.0482, 'grad_norm': 1.5247526168823242, 'learning_rate': 5.45609548167093e-06, 'epoch': 2.67}\n",
      "{'loss': 0.0647, 'grad_norm': 1.2816886901855469, 'learning_rate': 5.242966751918159e-06, 'epoch': 2.69}\n",
      "{'loss': 0.0437, 'grad_norm': 0.4495052695274353, 'learning_rate': 5.029838022165388e-06, 'epoch': 2.7}\n",
      "{'loss': 0.0041, 'grad_norm': 0.33345305919647217, 'learning_rate': 4.816709292412618e-06, 'epoch': 2.71}\n",
      "{'loss': 0.0384, 'grad_norm': 0.537104606628418, 'learning_rate': 4.603580562659847e-06, 'epoch': 2.72}\n",
      "{'loss': 0.0048, 'grad_norm': 0.08843490481376648, 'learning_rate': 4.390451832907076e-06, 'epoch': 2.74}\n",
      "{'loss': 0.0206, 'grad_norm': 0.15898992121219635, 'learning_rate': 4.177323103154306e-06, 'epoch': 2.75}\n",
      "{'loss': 0.0787, 'grad_norm': 9.321479797363281, 'learning_rate': 3.964194373401535e-06, 'epoch': 2.76}\n",
      "{'loss': 0.0945, 'grad_norm': 4.134868144989014, 'learning_rate': 3.751065643648764e-06, 'epoch': 2.77}\n",
      "{'loss': 0.0413, 'grad_norm': 1.874407410621643, 'learning_rate': 3.5379369138959936e-06, 'epoch': 2.79}\n",
      "{'loss': 0.0712, 'grad_norm': 0.35172736644744873, 'learning_rate': 3.324808184143223e-06, 'epoch': 2.8}\n",
      "{'loss': 0.079, 'grad_norm': 10.182976722717285, 'learning_rate': 3.111679454390452e-06, 'epoch': 2.81}\n",
      "{'loss': 0.0963, 'grad_norm': 12.996440887451172, 'learning_rate': 2.898550724637681e-06, 'epoch': 2.83}\n",
      "{'loss': 0.0459, 'grad_norm': 0.07010852545499802, 'learning_rate': 2.6854219948849107e-06, 'epoch': 2.84}\n",
      "{'loss': 0.0482, 'grad_norm': 0.04021468758583069, 'learning_rate': 2.47229326513214e-06, 'epoch': 2.85}\n",
      "{'loss': 0.023, 'grad_norm': 5.502594470977783, 'learning_rate': 2.2591645353793692e-06, 'epoch': 2.86}\n",
      "{'loss': 0.0894, 'grad_norm': 2.4718077182769775, 'learning_rate': 2.0460358056265987e-06, 'epoch': 2.88}\n",
      "{'loss': 0.1297, 'grad_norm': 0.05415085330605507, 'learning_rate': 1.8329070758738278e-06, 'epoch': 2.89}\n",
      "{'loss': 0.0404, 'grad_norm': 4.0352067947387695, 'learning_rate': 1.619778346121057e-06, 'epoch': 2.9}\n",
      "{'loss': 0.0512, 'grad_norm': 0.6823151111602783, 'learning_rate': 1.4066496163682865e-06, 'epoch': 2.92}\n",
      "{'loss': 0.0373, 'grad_norm': 0.10367950797080994, 'learning_rate': 1.1935208866155158e-06, 'epoch': 2.93}\n",
      "{'loss': 0.021, 'grad_norm': 2.5979864597320557, 'learning_rate': 9.80392156862745e-07, 'epoch': 2.94}\n",
      "{'loss': 0.0498, 'grad_norm': 0.06755486875772476, 'learning_rate': 7.672634271099745e-07, 'epoch': 2.95}\n",
      "{'loss': 0.0606, 'grad_norm': 18.327167510986328, 'learning_rate': 5.541346973572037e-07, 'epoch': 2.97}\n",
      "{'loss': 0.0495, 'grad_norm': 1.052558183670044, 'learning_rate': 3.410059676044331e-07, 'epoch': 2.98}\n",
      "{'loss': 0.0738, 'grad_norm': 5.770698547363281, 'learning_rate': 1.2787723785166242e-07, 'epoch': 2.99}\n"
     ]
    },
    {
     "data": {
      "application/vnd.jupyter.widget-view+json": {
       "model_id": "e6eb67641fc1464987d35a82d33848b2",
       "version_major": 2,
       "version_minor": 0
      },
      "text/plain": [
       "  0%|          | 0/782 [00:00<?, ?it/s]"
      ]
     },
     "metadata": {},
     "output_type": "display_data"
    },
    {
     "name": "stdout",
     "output_type": "stream",
     "text": [
      "{'eval_loss': 0.2704622447490692, 'eval_accuracy': 0.93288, 'eval_runtime': 296.5088, 'eval_samples_per_second': 84.315, 'eval_steps_per_second': 2.637, 'epoch': 3.0}\n",
      "{'train_runtime': 3385.8979, 'train_samples_per_second': 22.151, 'train_steps_per_second': 0.693, 'train_loss': 0.14583309073531517, 'epoch': 3.0}\n"
     ]
    },
    {
     "data": {
      "text/plain": [
       "TrainOutput(global_step=2346, training_loss=0.14583309073531517, metrics={'train_runtime': 3385.8979, 'train_samples_per_second': 22.151, 'train_steps_per_second': 0.693, 'total_flos': 9935054899200000.0, 'train_loss': 0.14583309073531517, 'epoch': 3.0})"
      ]
     },
     "execution_count": 28,
     "metadata": {},
     "output_type": "execute_result"
    }
   ],
   "source": [
    "dataset_full = load_dataset(\"stanfordnlp/imdb\")\n",
    "full_train_dataset = dataset_full['train']\n",
    "full_test_dataset = dataset_full['test']\n",
    "\n",
    "full_train_dataset_tokenized = full_train_dataset.map(tokenize_data, batched=True)\n",
    "full_test_dataset_tokenized = full_test_dataset.map(tokenize_data, batched=True)\n",
    "\n",
    "model2 = AutoModelForSequenceClassification.from_pretrained(\"distilbert/distilbert-base-uncased\", num_labels=2).to(device)\n",
    "\n",
    "training_args = TrainingArguments(\n",
    "    output_dir='./results',\n",
    "    num_train_epochs=3,\n",
    "    per_device_train_batch_size=32,\n",
    "    per_device_eval_batch_size=32,\n",
    "    eval_strategy='epoch',\n",
    "    save_strategy='epoch',\n",
    "    logging_dir='./logs',\n",
    "    logging_steps=10,\n",
    "    load_best_model_at_end=True,\n",
    "    metric_for_best_model='accuracy'\n",
    ")\n",
    "\n",
    "\n",
    "trainer = Trainer(\n",
    "    model=model2,\n",
    "    args=training_args,\n",
    "    train_dataset=full_train_dataset_tokenized,\n",
    "    eval_dataset=full_test_dataset_tokenized,\n",
    "    tokenizer=tokenizer,\n",
    "    data_collator=data_collator,\n",
    "    compute_metrics=compute_metrics\n",
    ")\n",
    "\n",
    "trainer.train()\n"
   ]
  },
  {
   "cell_type": "code",
   "execution_count": 30,
   "metadata": {},
   "outputs": [
    {
     "data": {
      "application/vnd.jupyter.widget-view+json": {
       "model_id": "fcceba0fe5d848a2b75f86d48cf4ec7d",
       "version_major": 2,
       "version_minor": 0
      },
      "text/plain": [
       "  0%|          | 0/782 [00:00<?, ?it/s]"
      ]
     },
     "metadata": {},
     "output_type": "display_data"
    },
    {
     "name": "stdout",
     "output_type": "stream",
     "text": [
      "{'eval_loss': 0.2704622447490692, 'eval_accuracy': 0.93288, 'eval_runtime': 285.9694, 'eval_samples_per_second': 87.422, 'eval_steps_per_second': 2.735, 'epoch': 3.0}\n"
     ]
    }
   ],
   "source": [
    "results = trainer.evaluate()\n",
    "print(results)"
   ]
  },
  {
   "cell_type": "code",
   "execution_count": 31,
   "metadata": {},
   "outputs": [
    {
     "name": "stdout",
     "output_type": "stream",
     "text": [
      "Accuracy: 0.93288\n"
     ]
    }
   ],
   "source": [
    "print(\"Accuracy:\", results['eval_accuracy'])"
   ]
  }
 ],
 "metadata": {
  "kernelspec": {
   "display_name": "gpt2",
   "language": "python",
   "name": "python3"
  },
  "language_info": {
   "codemirror_mode": {
    "name": "ipython",
    "version": 3
   },
   "file_extension": ".py",
   "mimetype": "text/x-python",
   "name": "python",
   "nbconvert_exporter": "python",
   "pygments_lexer": "ipython3",
   "version": "3.11.10"
  }
 },
 "nbformat": 4,
 "nbformat_minor": 2
}
