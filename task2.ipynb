{
  "cells": [
    {
      "cell_type": "code",
      "execution_count": 3,
      "metadata": {
        "colab": {
          "base_uri": "https://localhost:8080/"
        },
        "id": "InNOS1ESsxpJ",
        "outputId": "ce3f26e2-1b5b-441b-e663-bfda2de6dd2a"
      },
      "outputs": [
        {
          "name": "stdout",
          "output_type": "stream",
          "text": [
            "True\n"
          ]
        }
      ],
      "source": [
        "import torch\n",
        "import numpy as np\n",
        "import random\n",
        "from dotenv import load_dotenv\n",
        "import os\n",
        "from huggingface_hub import login\n",
        "\n",
        "load_dotenv()"
      ]
    },
    {
      "cell_type": "code",
      "execution_count": 4,
      "metadata": {
        "id": "wdxDfdpE1otO"
      },
      "outputs": [],
      "source": [
        "HF_TOKEN = os.getenv(\"HF_TOKEN\")\n",
        "login(HF_TOKEN)"
      ]
    },
    {
      "cell_type": "code",
      "execution_count": 5,
      "metadata": {
        "colab": {
          "base_uri": "https://localhost:8080/"
        },
        "id": "01jscbac1swf",
        "outputId": "21ffe253-4515-4fe3-9b32-824c3f4f6d26"
      },
      "outputs": [
        {
          "name": "stdout",
          "output_type": "stream",
          "text": [
            "Seed set to 42\n"
          ]
        }
      ],
      "source": [
        "SEED = 42\n",
        "def set_seed(seed):\n",
        "    np.random.seed(seed)\n",
        "    random.seed(seed)\n",
        "    torch.manual_seed(seed)\n",
        "    torch.cuda.manual_seed(seed)\n",
        "set_seed(SEED)\n",
        "print(f\"Seed set to {SEED}\")"
      ]
    },
    {
      "cell_type": "code",
      "execution_count": 6,
      "metadata": {
        "colab": {
          "base_uri": "https://localhost:8080/"
        },
        "id": "KMWvAB551ve4",
        "outputId": "2f27535d-3fd6-49a4-fc2e-608d68347271"
      },
      "outputs": [
        {
          "name": "stdout",
          "output_type": "stream",
          "text": [
            "Using device: cuda\n"
          ]
        }
      ],
      "source": [
        "def get_device():\n",
        "    if torch.cuda.is_available():\n",
        "        device = torch.device(\"cuda\")\n",
        "    elif torch.backends.mps.is_available():\n",
        "        device = torch.device(\"mps\")\n",
        "    else:\n",
        "        device = torch.device('cpu')\n",
        "    return device\n",
        "device = get_device()\n",
        "print(\"Using device:\", device)"
      ]
    },
    {
      "cell_type": "markdown",
      "metadata": {},
      "source": [
        "# Working with Datasets"
      ]
    },
    {
      "cell_type": "markdown",
      "metadata": {},
      "source": [
        "### 1. Load the tokenizer and the 4 Bit quantized model."
      ]
    },
    {
      "cell_type": "code",
      "execution_count": 7,
      "metadata": {
        "id": "i12jMs371z2a"
      },
      "outputs": [],
      "source": [
        "from transformers import AutoTokenizer\n",
        "from transformers import AutoModelForCausalLM"
      ]
    },
    {
      "cell_type": "code",
      "execution_count": 8,
      "metadata": {
        "colab": {
          "base_uri": "https://localhost:8080/",
          "height": 230,
          "referenced_widgets": [
            "577c839ee9b44c2a9d9666dfa8909a55",
            "00272b57d693428991a457abefab767b",
            "0290c53a24f042939bcaadc51459ce7f",
            "aab9a5bfb81f41b89493394c0ca2149f",
            "3607c2d027894096843696c9af44cd65",
            "ab353b2d5df44d85919d1660804a4330",
            "578ab4b7fb8b4f29b13418bbe0e3a702",
            "f3b283982a6945a898ef5a0d8d69bbd8",
            "f189ad3f7ed34521bd40137f75458ee9",
            "368b2f60d5ac4152ae63dc6abb4df276",
            "532876f46a904611851b1fe2c1f8b8b9"
          ]
        },
        "id": "XNwd27g916Rv",
        "outputId": "9d89a7f7-7681-4158-ac30-fffe1ecf743d"
      },
      "outputs": [
        {
          "name": "stderr",
          "output_type": "stream",
          "text": [
            "/usr/local/lib/python3.10/dist-packages/huggingface_hub/utils/_auth.py:94: UserWarning: \n",
            "The secret `HF_TOKEN` does not exist in your Colab secrets.\n",
            "To authenticate with the Hugging Face Hub, create a token in your settings tab (https://huggingface.co/settings/tokens), set it as secret in your Google Colab and restart your session.\n",
            "You will be able to reuse this secret in all of your notebooks.\n",
            "Please note that authentication is recommended but still optional to access public models or datasets.\n",
            "  warnings.warn(\n",
            "WARNING:transformers_modules.microsoft.Phi-3.5-mini-instruct.af0dfb8029e8a74545d0736d30cb6b58d2f0f3f0.modeling_phi3:`flash-attention` package not found, consider installing for better performance: No module named 'flash_attn'.\n",
            "WARNING:transformers_modules.microsoft.Phi-3.5-mini-instruct.af0dfb8029e8a74545d0736d30cb6b58d2f0f3f0.modeling_phi3:Current `flash-attention` does not support `window_size`. Either upgrade or use `attn_implementation='eager'`.\n",
            "The `load_in_4bit` and `load_in_8bit` arguments are deprecated and will be removed in the future versions. Please, pass a `BitsAndBytesConfig` object in `quantization_config` argument instead.\n"
          ]
        },
        {
          "data": {
            "application/vnd.jupyter.widget-view+json": {
              "model_id": "577c839ee9b44c2a9d9666dfa8909a55",
              "version_major": 2,
              "version_minor": 0
            },
            "text/plain": [
              "Loading checkpoint shards:   0%|          | 0/2 [00:00<?, ?it/s]"
            ]
          },
          "metadata": {},
          "output_type": "display_data"
        }
      ],
      "source": [
        "model_id = \"microsoft/Phi-3.5-mini-instruct\"\n",
        "\n",
        "tokenizer = AutoTokenizer.from_pretrained(model_id, use_fast=False, padding_side='left')\n",
        "model = AutoModelForCausalLM.from_pretrained(\n",
        "    model_id,\n",
        "    load_in_4bit=True,\n",
        "    device_map=\"auto\",\n",
        "    trust_remote_code=True\n",
        ")"
      ]
    },
    {
      "cell_type": "markdown",
      "metadata": {},
      "source": [
        "### 2. Load the test split of the ```abisee/cnn``` dailymail dataset (Version 3.0.0) using the <i>datasets</i> library. Print the dataset structure and the first sample."
      ]
    },
    {
      "cell_type": "code",
      "execution_count": 9,
      "metadata": {
        "id": "lJ9VMsMv2CyR"
      },
      "outputs": [],
      "source": [
        "from datasets import load_dataset"
      ]
    },
    {
      "cell_type": "code",
      "execution_count": 10,
      "metadata": {
        "id": "j0jz0PWE2I6O"
      },
      "outputs": [],
      "source": [
        "dataset = load_dataset(\"abisee/cnn_dailymail\", \"3.0.0\", split=\"test\")"
      ]
    },
    {
      "cell_type": "code",
      "execution_count": 11,
      "metadata": {
        "colab": {
          "base_uri": "https://localhost:8080/"
        },
        "id": "NnJqVecv2Myc",
        "outputId": "c98042df-73d0-46e8-e19f-8a879d2e991c"
      },
      "outputs": [
        {
          "name": "stdout",
          "output_type": "stream",
          "text": [
            "Dataset Structure:\n",
            "Dataset({\n",
            "    features: ['article', 'highlights', 'id'],\n",
            "    num_rows: 11490\n",
            "})\n"
          ]
        }
      ],
      "source": [
        "print(\"Dataset Structure:\")\n",
        "print(dataset)"
      ]
    },
    {
      "cell_type": "code",
      "execution_count": 12,
      "metadata": {
        "colab": {
          "base_uri": "https://localhost:8080/"
        },
        "id": "ZohRljzF2Mwp",
        "outputId": "4a6ebf07-e956-4bc1-d649-7bc46e89ebd6"
      },
      "outputs": [
        {
          "name": "stdout",
          "output_type": "stream",
          "text": [
            "First Sample:\n",
            "Article:  (CNN)The Palestinian Authority officially became the 123rd member of the International Criminal Court on Wednesday, a step that gives the court jurisdiction over alleged crimes in Palestinian territories. The formal accession was marked with a ceremony at The Hague, in the Netherlands, where the court is based. The Palestinians signed the ICC's founding Rome Statute in January, when they also accepted its jurisdiction over alleged crimes committed \"in the occupied Palestinian territory, including East Jerusalem, since June 13, 2014.\" Later that month, the ICC opened a preliminary examination into the situation in Palestinian territories, paving the way for possible war crimes investigations against Israelis. As members of the court, Palestinians may be subject to counter-charges as well. Israel and the United States, neither of which is an ICC member, opposed the Palestinians' efforts to join the body. But Palestinian Foreign Minister Riad al-Malki, speaking at Wednesday's ceremony, said it was a move toward greater justice. \"As Palestine formally becomes a State Party to the Rome Statute today, the world is also a step closer to ending a long era of impunity and injustice,\" he said, according to an ICC news release. \"Indeed, today brings us closer to our shared goals of justice and peace.\" Judge Kuniko Ozaki, a vice president of the ICC, said acceding to the treaty was just the first step for the Palestinians. \"As the Rome Statute today enters into force for the State of Palestine, Palestine acquires all the rights as well as responsibilities that come with being a State Party to the Statute. These are substantive commitments, which cannot be taken lightly,\" she said. Rights group Human Rights Watch welcomed the development. \"Governments seeking to penalize Palestine for joining the ICC should immediately end their pressure, and countries that support universal acceptance of the court's treaty should speak out to welcome its membership,\" said Balkees Jarrah, international justice counsel for the group. \"What's objectionable is the attempts to undermine international justice, not Palestine's decision to join a treaty to which over 100 countries around the world are members.\" In January, when the preliminary ICC examination was opened, Israeli Prime Minister Benjamin Netanyahu described it as an outrage, saying the court was overstepping its boundaries. The United States also said it \"strongly\" disagreed with the court's decision. \"As we have said repeatedly, we do not believe that Palestine is a state and therefore we do not believe that it is eligible to join the ICC,\" the State Department said in a statement. It urged the warring sides to resolve their differences through direct negotiations. \"We will continue to oppose actions against Israel at the ICC as counterproductive to the cause of peace,\" it said. But the ICC begs to differ with the definition of a state for its purposes and refers to the territories as \"Palestine.\" While a preliminary examination is not a formal investigation, it allows the court to review evidence and determine whether to investigate suspects on both sides. Prosecutor Fatou Bensouda said her office would \"conduct its analysis in full independence and impartiality.\" The war between Israel and Hamas militants in Gaza last summer left more than 2,000 people dead. The inquiry will include alleged war crimes committed since June. The International Criminal Court was set up in 2002 to prosecute genocide, crimes against humanity and war crimes. CNN's Vasco Cotovio, Kareem Khadder and Faith Karimi contributed to this report.\n",
            "Highlights:  Membership gives the ICC jurisdiction over alleged crimes committed in Palestinian territories since last June .\n",
            "Israel and the United States opposed the move, which could open the door to war crimes investigations against Israelis .\n",
            "ID:  f001ec5c4704938247d27a44948eebb37ae98d01\n"
          ]
        }
      ],
      "source": [
        "print(\"First Sample:\")\n",
        "print(\"Article: \", dataset[0]['article'])\n",
        "print(\"Highlights: \", dataset[0]['highlights'])\n",
        "print(\"ID: \", dataset[0]['id'])"
      ]
    },
    {
      "cell_type": "markdown",
      "metadata": {},
      "source": [
        "### 3. Shuffle the dataset with a fixed seed, select only the first 50 samples, and remove the ```id``` column. Print the dataset structure and the first sample."
      ]
    },
    {
      "cell_type": "code",
      "execution_count": 13,
      "metadata": {
        "id": "wYWrh5k02MuL"
      },
      "outputs": [],
      "source": [
        "dataset = dataset.shuffle(seed=SEED)\n",
        "dataset = dataset.select(range(50))\n",
        "dataset = dataset.remove_columns('id')"
      ]
    },
    {
      "cell_type": "code",
      "execution_count": 14,
      "metadata": {
        "colab": {
          "base_uri": "https://localhost:8080/"
        },
        "id": "70SmRqPl2Mru",
        "outputId": "39ff7f9b-9c12-440b-8bcb-b15044b77b15"
      },
      "outputs": [
        {
          "name": "stdout",
          "output_type": "stream",
          "text": [
            "Dataset Structure:\n",
            "Dataset({\n",
            "    features: ['article', 'highlights'],\n",
            "    num_rows: 50\n",
            "})\n"
          ]
        }
      ],
      "source": [
        "print(\"Dataset Structure:\")\n",
        "print(dataset)"
      ]
    },
    {
      "cell_type": "code",
      "execution_count": 15,
      "metadata": {
        "colab": {
          "base_uri": "https://localhost:8080/"
        },
        "id": "TsCjpzpP2Mpc",
        "outputId": "8be4fef5-5c42-4b6b-e516-65a704a1bcc1"
      },
      "outputs": [
        {
          "name": "stdout",
          "output_type": "stream",
          "text": [
            "First Sample:\n",
            "Article:  (CNN) I see signs of a revolution everywhere. I see it in the op-ed pages of the newspapers, and on the state ballots in nearly half the country. I see it in politicians who once preferred to play it safe with this explosive issue but are now willing to stake their political futures on it. I see the revolution in the eyes of sterling scientists, previously reluctant to dip a toe into this heavily stigmatized world, who are diving in head first. I see it in the new surgeon general who cites data showing just how helpful it can be. I see a revolution in the attitudes of everyday Americans. For the first time a majority, 53%, favor its legalization, with 77% supporting it for medical purposes. Support for legalization has risen 11 points in the past few years alone. In 1969, the first time Pew asked the question about legalization, only 12% of the nation was in favor. I see a revolution that is burning white hot among young people, but also shows up among the parents and grandparents in my kids' school. A police officer I met in Michigan is part of the revolution, as are the editors of the medical journal, Neurosurgery. I see it in the faces of good parents, uprooting their lives to get medicine for their children -- and in the children themselves, such as Charlotte, who went from having 300 seizures a week to just one or two a month. We know it won't consistently have such dramatic results (or any impact at all) in others, but what medicine does? I see this medical marijuana revolution in surprising places. Girl's seizures spur medical marijuana legislation in Georgia . Among my colleagues, my patients and my friends. I have even seen the revolution in my own family. A few years ago, when I told my mother I was investigating the topic for a documentary, I was met with a long pause. \"Marijuana...?\" She whispered in a half questioning, half disapproving tone. She could barely even say the word and her response filled me with self-doubt. Even as a grown man, mom can still make my cheeks turn red and shatter my confidence with a single word. But just last week she suddenly stopped mid-conversation and said, \"I am proud of you on the whole marijuana thing.\" I waited for the other shoe to drop, but it didn't. Instead, she added, \"You probably helped a lot of people who were suffering.\" I don't think we had ever had a conversation like that one. At that moment, I saw a revolution that can bring you to tears. The word revolution, comes from the Latin revolutio, to \"turn around.\" I had my own turn around a couple of years ago, and at the time it was a lonely place to hold a supportive position on medical marijuana. Hardly any government officials would agree to sit down and be interviewed on the topic. Even patients I spoke to were reluctant to share their stories. It can be tricky, I learned, to be on the right side of science but on the wrong side of ideology. When we put the first \"Weed\" documentary on television in August 2013, I didn't know if anyone would watch our yearlong investigation. Even worse, I didn't even know if they would care. Is weed legal in your state? Just two years later, in \"Weed 3,\" we are eyewitnesses to a revolution in full swing. You will ride along with us for the dawn of the first federally approved clinical study on the use of marijuana for PTSD. You will meet patients such as Sean Kiernan, an accomplished investment banker, and Amelia Taylor, a stay-at-home mom. They are the remarkable and surprising faces of this revolution -- smart, successful and suffering -- unwilling to accept the fact that commonly prescribed medications often used to treat PTSD can be worse than the underlying disorder itself. Sean Kiernan nearly died, trying to get better. You will see what weed really does to your brain, in crystal clear images. This time around, you will hear from the heads of government agencies earnestly sharing their point of view, both Democratic and Republican senators, and even the President of the United States. This is what a revolution looks like. Your medical marijuana questions answered . When \"Weed 2: Cannabis Madness\" aired in March 2014, Boston researcher Rick Doblin believed the right people were watching. Just four days later, Doblin received a letter in the mail he had been waiting on for seven years that finally provided federal approval for his marijuana study. The federal farm where Doblin would have to obtain his marijuana is on the campus of Ole Miss in Oxford, Mississippi. In anticipation of a scientific revolution, the production of research-grade marijuana there has increased 30-fold in just the past year. Make no mistake, we have plenty of evidence that the approval and support of the federal government can fast track a revolution at a faster pace than we have yet seen. It was the National Institute of Allergy and Infectious Diseases that spearheaded the research into a cure for AIDS, as well as stopping the spread of West Nile Virus. They were also responsible for the awesome task of eradicating polio and smallpox. Other successful federally backed programs include the human genome project, the BRAIN initiative and the Precision Medicine Initiative. There are no shortage of examples where the federal government has been a guardian of our public health needs, and you could argue that medical marijuana would also qualify as a worthwhile investment. 10 diseases where medical marijuana could have impact . There is now promising research into the use of marijuana that could impact tens of thousands of children and adults, including treatment for cancer, epilepsy and Alzheimer's, to name a few. With regard to pain alone, marijuana could greatly reduce the demand for narcotics and simultaneously decrease the number of accidental painkiller overdoses, which are the greatest cause of preventable death in this country. As I sat across from Sens. Kirsten Gillibrand (D-New York) and Cory Booker (D-New Jersey), I knew something extraordinary was happening. They were reciting the story of Charlotte Figi and countless other children. They were quoting back the data we had shared from our earlier investigations. They were extolling the potential virtues of the plant, and all of that was before the interview even started. There was an impatience about them, and they seemed in a hurry to make a large dent in marijuana reform. They want marijuana to be rescheduled. They want it now. They want doctors to be able to prescribe it at VA hospitals all over the country. They want it now. They want research dollars freed up to study the plant. They want it now. They want their fellow lawmakers at the state and national level to acknowledge what most of the world, including the citizens of the United States, have known for a long time: Marijuana is a medicine, that should be studied and treated like any other medicine. And they want all of it now. I spent much of our interview challenging them. I needed to remind them that people, long before me or them, have been trying to do many of these same things for 40 years, and had been rejected every time. I reminded them that politicians have a hard time winning elections on the issue of marijuana but less difficulty losing them. I challenged them every step of the way. \"This time will be different,\" Booker confidently told me as he walked out of the room. Is marijuana as safe as -- or safer than -- alcohol? I know how easy it is do nothing because I did nothing for too long. Take a good look at the data, educate yourself and talk to the patients, who are often out of options and find their hope in the form of a simple plant. Journalists shouldn't take a position. It makes sense. Objectivity is king. But, at some point, open questions do get answered. At some point, contentious issues do get resolved. At some point, common sense prevails. So, here it is: We should legalize medical marijuana. We should do it nationally. And, we should do it now. 9 things to know about legal pot .\n",
            "Highlights:  CNN's Dr. Sanjay Gupta says we should legalize medical marijuana now .\n",
            "He says he knows how easy it is do nothing \"because I did nothing for too long\"\n"
          ]
        }
      ],
      "source": [
        "print(\"First Sample:\")\n",
        "print(\"Article: \", dataset[0]['article'])\n",
        "print(\"Highlights: \", dataset[0]['highlights'])"
      ]
    },
    {
      "cell_type": "markdown",
      "metadata": {},
      "source": [
        "### 4. Incorporate the system prompt <i>You are an AI summarizer. Write a short summary for the following CNN article:</i> into each sample using the ```apply_chat_template()``` method of the tokenizer. Print the first sample."
      ]
    },
    {
      "cell_type": "code",
      "execution_count": 16,
      "metadata": {
        "colab": {
          "base_uri": "https://localhost:8080/",
          "height": 49,
          "referenced_widgets": [
            "3608c9f6d3994e42bf45e8792b752cdb",
            "7e9834a922ee429d88aa1900ebe31cb1",
            "53202b671db2439b9f00c2bdd17a9055",
            "5ab3d3b1fed246cbabc25a227bb8c94f",
            "2e69bfa88d044ac8bcc0c6598e99bb95",
            "958401522ad2424fb68eec312cb02330",
            "bc1fa2cf17384ac8b84bbd35ca813b1d",
            "4972c51a27bb401bac5d6a7ff74d2794",
            "f9944b0a6bef441eb607ca865a3535e4",
            "def2cb455e13464a82e0a920fd14130c",
            "b9d4e170638e43338ceabea981943409"
          ]
        },
        "id": "QSp0sTfq2Mm_",
        "outputId": "1df18a19-8def-4d28-87d0-6cce1a3fcd93"
      },
      "outputs": [
        {
          "data": {
            "application/vnd.jupyter.widget-view+json": {
              "model_id": "3608c9f6d3994e42bf45e8792b752cdb",
              "version_major": 2,
              "version_minor": 0
            },
            "text/plain": [
              "Map:   0%|          | 0/50 [00:00<?, ? examples/s]"
            ]
          },
          "metadata": {},
          "output_type": "display_data"
        }
      ],
      "source": [
        "system_prompt = \"You are an AI summarizer. Write a short summary for the following CNN article:\"\n",
        "\n",
        "def add_prompt(example):\n",
        "    chat = [\n",
        "        {\"role\": \"system\", \"content\": system_prompt},\n",
        "        {\"role\": \"user\", \"content\": f\"Below is an article from CNN. Summarize the main ideas:\\n{example['article']}\"}\n",
        "    ]\n",
        "    example[\"prompt\"] = tokenizer.apply_chat_template(chat, tokenize=False,add_generation_prompt=True)\n",
        "    return example\n",
        "\n",
        "dataset = dataset.map(add_prompt)"
      ]
    },
    {
      "cell_type": "code",
      "execution_count": 17,
      "metadata": {
        "colab": {
          "base_uri": "https://localhost:8080/"
        },
        "id": "65gQYntt2Mkg",
        "outputId": "e5bdd43b-4b41-4420-806a-e4d02ecf2d5a"
      },
      "outputs": [
        {
          "name": "stdout",
          "output_type": "stream",
          "text": [
            "First sample:\n",
            "<|system|>\n",
            "You are an AI summarizer. Write a short summary for the following CNN article:<|end|>\n",
            "<|user|>\n",
            "Below is an article from CNN. Summarize the main ideas:\n",
            "(CNN) I see signs of a revolution everywhere. I see it in the op-ed pages of the newspapers, and on the state ballots in nearly half the country. I see it in politicians who once preferred to play it safe with this explosive issue but are now willing to stake their political futures on it. I see the revolution in the eyes of sterling scientists, previously reluctant to dip a toe into this heavily stigmatized world, who are diving in head first. I see it in the new surgeon general who cites data showing just how helpful it can be. I see a revolution in the attitudes of everyday Americans. For the first time a majority, 53%, favor its legalization, with 77% supporting it for medical purposes. Support for legalization has risen 11 points in the past few years alone. In 1969, the first time Pew asked the question about legalization, only 12% of the nation was in favor. I see a revolution that is burning white hot among young people, but also shows up among the parents and grandparents in my kids' school. A police officer I met in Michigan is part of the revolution, as are the editors of the medical journal, Neurosurgery. I see it in the faces of good parents, uprooting their lives to get medicine for their children -- and in the children themselves, such as Charlotte, who went from having 300 seizures a week to just one or two a month. We know it won't consistently have such dramatic results (or any impact at all) in others, but what medicine does? I see this medical marijuana revolution in surprising places. Girl's seizures spur medical marijuana legislation in Georgia . Among my colleagues, my patients and my friends. I have even seen the revolution in my own family. A few years ago, when I told my mother I was investigating the topic for a documentary, I was met with a long pause. \"Marijuana...?\" She whispered in a half questioning, half disapproving tone. She could barely even say the word and her response filled me with self-doubt. Even as a grown man, mom can still make my cheeks turn red and shatter my confidence with a single word. But just last week she suddenly stopped mid-conversation and said, \"I am proud of you on the whole marijuana thing.\" I waited for the other shoe to drop, but it didn't. Instead, she added, \"You probably helped a lot of people who were suffering.\" I don't think we had ever had a conversation like that one. At that moment, I saw a revolution that can bring you to tears. The word revolution, comes from the Latin revolutio, to \"turn around.\" I had my own turn around a couple of years ago, and at the time it was a lonely place to hold a supportive position on medical marijuana. Hardly any government officials would agree to sit down and be interviewed on the topic. Even patients I spoke to were reluctant to share their stories. It can be tricky, I learned, to be on the right side of science but on the wrong side of ideology. When we put the first \"Weed\" documentary on television in August 2013, I didn't know if anyone would watch our yearlong investigation. Even worse, I didn't even know if they would care. Is weed legal in your state? Just two years later, in \"Weed 3,\" we are eyewitnesses to a revolution in full swing. You will ride along with us for the dawn of the first federally approved clinical study on the use of marijuana for PTSD. You will meet patients such as Sean Kiernan, an accomplished investment banker, and Amelia Taylor, a stay-at-home mom. They are the remarkable and surprising faces of this revolution -- smart, successful and suffering -- unwilling to accept the fact that commonly prescribed medications often used to treat PTSD can be worse than the underlying disorder itself. Sean Kiernan nearly died, trying to get better. You will see what weed really does to your brain, in crystal clear images. This time around, you will hear from the heads of government agencies earnestly sharing their point of view, both Democratic and Republican senators, and even the President of the United States. This is what a revolution looks like. Your medical marijuana questions answered . When \"Weed 2: Cannabis Madness\" aired in March 2014, Boston researcher Rick Doblin believed the right people were watching. Just four days later, Doblin received a letter in the mail he had been waiting on for seven years that finally provided federal approval for his marijuana study. The federal farm where Doblin would have to obtain his marijuana is on the campus of Ole Miss in Oxford, Mississippi. In anticipation of a scientific revolution, the production of research-grade marijuana there has increased 30-fold in just the past year. Make no mistake, we have plenty of evidence that the approval and support of the federal government can fast track a revolution at a faster pace than we have yet seen. It was the National Institute of Allergy and Infectious Diseases that spearheaded the research into a cure for AIDS, as well as stopping the spread of West Nile Virus. They were also responsible for the awesome task of eradicating polio and smallpox. Other successful federally backed programs include the human genome project, the BRAIN initiative and the Precision Medicine Initiative. There are no shortage of examples where the federal government has been a guardian of our public health needs, and you could argue that medical marijuana would also qualify as a worthwhile investment. 10 diseases where medical marijuana could have impact . There is now promising research into the use of marijuana that could impact tens of thousands of children and adults, including treatment for cancer, epilepsy and Alzheimer's, to name a few. With regard to pain alone, marijuana could greatly reduce the demand for narcotics and simultaneously decrease the number of accidental painkiller overdoses, which are the greatest cause of preventable death in this country. As I sat across from Sens. Kirsten Gillibrand (D-New York) and Cory Booker (D-New Jersey), I knew something extraordinary was happening. They were reciting the story of Charlotte Figi and countless other children. They were quoting back the data we had shared from our earlier investigations. They were extolling the potential virtues of the plant, and all of that was before the interview even started. There was an impatience about them, and they seemed in a hurry to make a large dent in marijuana reform. They want marijuana to be rescheduled. They want it now. They want doctors to be able to prescribe it at VA hospitals all over the country. They want it now. They want research dollars freed up to study the plant. They want it now. They want their fellow lawmakers at the state and national level to acknowledge what most of the world, including the citizens of the United States, have known for a long time: Marijuana is a medicine, that should be studied and treated like any other medicine. And they want all of it now. I spent much of our interview challenging them. I needed to remind them that people, long before me or them, have been trying to do many of these same things for 40 years, and had been rejected every time. I reminded them that politicians have a hard time winning elections on the issue of marijuana but less difficulty losing them. I challenged them every step of the way. \"This time will be different,\" Booker confidently told me as he walked out of the room. Is marijuana as safe as -- or safer than -- alcohol? I know how easy it is do nothing because I did nothing for too long. Take a good look at the data, educate yourself and talk to the patients, who are often out of options and find their hope in the form of a simple plant. Journalists shouldn't take a position. It makes sense. Objectivity is king. But, at some point, open questions do get answered. At some point, contentious issues do get resolved. At some point, common sense prevails. So, here it is: We should legalize medical marijuana. We should do it nationally. And, we should do it now. 9 things to know about legal pot .<|end|>\n",
            "<|assistant|>\n",
            "\n"
          ]
        }
      ],
      "source": [
        "print(\"First sample:\")\n",
        "print(dataset[0][\"prompt\"])"
      ]
    },
    {
      "cell_type": "markdown",
      "metadata": {},
      "source": [
        "### 5. Generate a summary for each sample in the dataset. Use batched generation with a batch size of 4. Use nucleus sampling. Only save the generated summaries. Print the summary for the first sample."
      ]
    },
    {
      "cell_type": "code",
      "execution_count": 18,
      "metadata": {
        "colab": {
          "base_uri": "https://localhost:8080/"
        },
        "id": "K9WGxtrH2Mia",
        "outputId": "27648a54-f43f-41e5-8c22-3232804addd6"
      },
      "outputs": [
        {
          "name": "stderr",
          "output_type": "stream",
          "text": [
            "The `seen_tokens` attribute is deprecated and will be removed in v4.41. Use the `cache_position` model input instead.\n",
            "`get_max_cache()` is deprecated for all Cache classes. Use `get_max_cache_shape()` instead. Calling `get_max_cache()` will raise error from v4.48\n",
            "WARNING:transformers_modules.microsoft.Phi-3.5-mini-instruct.af0dfb8029e8a74545d0736d30cb6b58d2f0f3f0.modeling_phi3:You are not running the flash-attention implementation, expect numerical differences.\n",
            "/usr/local/lib/python3.10/dist-packages/bitsandbytes/nn/modules.py:451: UserWarning: Input type into Linear4bit is torch.float16, but bnb_4bit_compute_dtype=torch.float32 (default). This will lead to slow inference or training speed.\n",
            "  warnings.warn(\n"
          ]
        }
      ],
      "source": [
        "batch_size = 4\n",
        "all_summaries = []\n",
        "\n",
        "model.eval()\n",
        "device = model.device\n",
        "\n",
        "for i in range(0, len(dataset), batch_size):\n",
        "    batch = dataset[i : i + batch_size][\"prompt\"]\n",
        "    inputs = tokenizer(batch, return_tensors=\"pt\", padding=True, truncation=True, add_special_tokens=False).to(device)\n",
        "    outputs = model.generate(\n",
        "        **inputs,\n",
        "        max_new_tokens=100,\n",
        "        do_sample=True,\n",
        "        top_p=0.9,\n",
        "        temperature=0.1\n",
        "    )\n",
        "    decoded = tokenizer.batch_decode(outputs, skip_special_tokens=True)\n",
        "    summaries = [d for d in decoded]\n",
        "    all_summaries.extend(summaries)"
      ]
    },
    {
      "cell_type": "code",
      "execution_count": 22,
      "metadata": {
        "id": "TQINf5_fHnre"
      },
      "outputs": [],
      "source": [
        "cleaned_summaries = []\n",
        "for i in range(len(all_summaries)):\n",
        "    cleaned_summaries.append(all_summaries[i][len(dataset[\"prompt\"][i]):])"
      ]
    },
    {
      "cell_type": "code",
      "execution_count": 23,
      "metadata": {
        "colab": {
          "base_uri": "https://localhost:8080/"
        },
        "id": "WGQm3atK7Ja6",
        "outputId": "4524abbf-981c-4786-daf5-c6e8744fd6fb"
      },
      "outputs": [
        {
          "name": "stdout",
          "output_type": "stream",
          "text": [
            "Summary of first sample:\n",
            "> The article from CNN highlights a nationwide revolution surrounding the legalization of medical marijuana. Op-ed pieces, state ballots, and politicians are increasingly willing to engage with this issue, which was once stigmatized. Scientists, the new surgeon general, and parents are all part of this shift, with a majority of Americans now in favor of legalization for medical purposes.\n",
            "\n",
            "The revolution is not limited to adults; it also involves young people\n"
          ]
        }
      ],
      "source": [
        "print(\"Summary of first sample:\")\n",
        "print(cleaned_summaries[0])"
      ]
    },
    {
      "cell_type": "markdown",
      "metadata": {},
      "source": [
        "### 6. Calculate the ROUGE score of the generated summaries against the reference summaries of the dataset. Use the ```evaluate``` library. Print the average ROUGE scores."
      ]
    },
    {
      "cell_type": "code",
      "execution_count": 25,
      "metadata": {
        "colab": {
          "base_uri": "https://localhost:8080/"
        },
        "id": "ezXj-cTw2Mfw",
        "outputId": "b9570ea1-895a-4f60-e506-7d499d9ddd34"
      },
      "outputs": [
        {
          "name": "stdout",
          "output_type": "stream",
          "text": [
            "\n",
            "Average ROUGE scores:\n",
            "{'rouge1': 0.3663098826204447, 'rouge2': 0.12697411004003278, 'rougeL': 0.23415596671510458, 'rougeLsum': 0.3046264028409189}\n"
          ]
        }
      ],
      "source": [
        "import evaluate\n",
        "\n",
        "rouge = evaluate.load(\"rouge\")\n",
        "\n",
        "references = dataset[\"highlights\"]\n",
        "results = rouge.compute(predictions=cleaned_summaries, references=references)\n",
        "\n",
        "print(\"\\nAverage ROUGE scores:\")\n",
        "print(results)"
      ]
    }
  ],
  "metadata": {
    "accelerator": "GPU",
    "colab": {
      "gpuType": "T4",
      "provenance": []
    },
    "kernelspec": {
      "display_name": "Python 3",
      "name": "python3"
    },
    "language_info": {
      "name": "python",
      "version": "3.11.10"
    },
    "widgets": {
      "application/vnd.jupyter.widget-state+json": {
        "00272b57d693428991a457abefab767b": {
          "model_module": "@jupyter-widgets/controls",
          "model_module_version": "1.5.0",
          "model_name": "HTMLModel",
          "state": {
            "_dom_classes": [],
            "_model_module": "@jupyter-widgets/controls",
            "_model_module_version": "1.5.0",
            "_model_name": "HTMLModel",
            "_view_count": null,
            "_view_module": "@jupyter-widgets/controls",
            "_view_module_version": "1.5.0",
            "_view_name": "HTMLView",
            "description": "",
            "description_tooltip": null,
            "layout": "IPY_MODEL_ab353b2d5df44d85919d1660804a4330",
            "placeholder": "​",
            "style": "IPY_MODEL_578ab4b7fb8b4f29b13418bbe0e3a702",
            "value": "Loading checkpoint shards: 100%"
          }
        },
        "0290c53a24f042939bcaadc51459ce7f": {
          "model_module": "@jupyter-widgets/controls",
          "model_module_version": "1.5.0",
          "model_name": "FloatProgressModel",
          "state": {
            "_dom_classes": [],
            "_model_module": "@jupyter-widgets/controls",
            "_model_module_version": "1.5.0",
            "_model_name": "FloatProgressModel",
            "_view_count": null,
            "_view_module": "@jupyter-widgets/controls",
            "_view_module_version": "1.5.0",
            "_view_name": "ProgressView",
            "bar_style": "success",
            "description": "",
            "description_tooltip": null,
            "layout": "IPY_MODEL_f3b283982a6945a898ef5a0d8d69bbd8",
            "max": 2,
            "min": 0,
            "orientation": "horizontal",
            "style": "IPY_MODEL_f189ad3f7ed34521bd40137f75458ee9",
            "value": 2
          }
        },
        "2e69bfa88d044ac8bcc0c6598e99bb95": {
          "model_module": "@jupyter-widgets/base",
          "model_module_version": "1.2.0",
          "model_name": "LayoutModel",
          "state": {
            "_model_module": "@jupyter-widgets/base",
            "_model_module_version": "1.2.0",
            "_model_name": "LayoutModel",
            "_view_count": null,
            "_view_module": "@jupyter-widgets/base",
            "_view_module_version": "1.2.0",
            "_view_name": "LayoutView",
            "align_content": null,
            "align_items": null,
            "align_self": null,
            "border": null,
            "bottom": null,
            "display": null,
            "flex": null,
            "flex_flow": null,
            "grid_area": null,
            "grid_auto_columns": null,
            "grid_auto_flow": null,
            "grid_auto_rows": null,
            "grid_column": null,
            "grid_gap": null,
            "grid_row": null,
            "grid_template_areas": null,
            "grid_template_columns": null,
            "grid_template_rows": null,
            "height": null,
            "justify_content": null,
            "justify_items": null,
            "left": null,
            "margin": null,
            "max_height": null,
            "max_width": null,
            "min_height": null,
            "min_width": null,
            "object_fit": null,
            "object_position": null,
            "order": null,
            "overflow": null,
            "overflow_x": null,
            "overflow_y": null,
            "padding": null,
            "right": null,
            "top": null,
            "visibility": null,
            "width": null
          }
        },
        "3607c2d027894096843696c9af44cd65": {
          "model_module": "@jupyter-widgets/base",
          "model_module_version": "1.2.0",
          "model_name": "LayoutModel",
          "state": {
            "_model_module": "@jupyter-widgets/base",
            "_model_module_version": "1.2.0",
            "_model_name": "LayoutModel",
            "_view_count": null,
            "_view_module": "@jupyter-widgets/base",
            "_view_module_version": "1.2.0",
            "_view_name": "LayoutView",
            "align_content": null,
            "align_items": null,
            "align_self": null,
            "border": null,
            "bottom": null,
            "display": null,
            "flex": null,
            "flex_flow": null,
            "grid_area": null,
            "grid_auto_columns": null,
            "grid_auto_flow": null,
            "grid_auto_rows": null,
            "grid_column": null,
            "grid_gap": null,
            "grid_row": null,
            "grid_template_areas": null,
            "grid_template_columns": null,
            "grid_template_rows": null,
            "height": null,
            "justify_content": null,
            "justify_items": null,
            "left": null,
            "margin": null,
            "max_height": null,
            "max_width": null,
            "min_height": null,
            "min_width": null,
            "object_fit": null,
            "object_position": null,
            "order": null,
            "overflow": null,
            "overflow_x": null,
            "overflow_y": null,
            "padding": null,
            "right": null,
            "top": null,
            "visibility": null,
            "width": null
          }
        },
        "3608c9f6d3994e42bf45e8792b752cdb": {
          "model_module": "@jupyter-widgets/controls",
          "model_module_version": "1.5.0",
          "model_name": "HBoxModel",
          "state": {
            "_dom_classes": [],
            "_model_module": "@jupyter-widgets/controls",
            "_model_module_version": "1.5.0",
            "_model_name": "HBoxModel",
            "_view_count": null,
            "_view_module": "@jupyter-widgets/controls",
            "_view_module_version": "1.5.0",
            "_view_name": "HBoxView",
            "box_style": "",
            "children": [
              "IPY_MODEL_7e9834a922ee429d88aa1900ebe31cb1",
              "IPY_MODEL_53202b671db2439b9f00c2bdd17a9055",
              "IPY_MODEL_5ab3d3b1fed246cbabc25a227bb8c94f"
            ],
            "layout": "IPY_MODEL_2e69bfa88d044ac8bcc0c6598e99bb95"
          }
        },
        "368b2f60d5ac4152ae63dc6abb4df276": {
          "model_module": "@jupyter-widgets/base",
          "model_module_version": "1.2.0",
          "model_name": "LayoutModel",
          "state": {
            "_model_module": "@jupyter-widgets/base",
            "_model_module_version": "1.2.0",
            "_model_name": "LayoutModel",
            "_view_count": null,
            "_view_module": "@jupyter-widgets/base",
            "_view_module_version": "1.2.0",
            "_view_name": "LayoutView",
            "align_content": null,
            "align_items": null,
            "align_self": null,
            "border": null,
            "bottom": null,
            "display": null,
            "flex": null,
            "flex_flow": null,
            "grid_area": null,
            "grid_auto_columns": null,
            "grid_auto_flow": null,
            "grid_auto_rows": null,
            "grid_column": null,
            "grid_gap": null,
            "grid_row": null,
            "grid_template_areas": null,
            "grid_template_columns": null,
            "grid_template_rows": null,
            "height": null,
            "justify_content": null,
            "justify_items": null,
            "left": null,
            "margin": null,
            "max_height": null,
            "max_width": null,
            "min_height": null,
            "min_width": null,
            "object_fit": null,
            "object_position": null,
            "order": null,
            "overflow": null,
            "overflow_x": null,
            "overflow_y": null,
            "padding": null,
            "right": null,
            "top": null,
            "visibility": null,
            "width": null
          }
        },
        "4972c51a27bb401bac5d6a7ff74d2794": {
          "model_module": "@jupyter-widgets/base",
          "model_module_version": "1.2.0",
          "model_name": "LayoutModel",
          "state": {
            "_model_module": "@jupyter-widgets/base",
            "_model_module_version": "1.2.0",
            "_model_name": "LayoutModel",
            "_view_count": null,
            "_view_module": "@jupyter-widgets/base",
            "_view_module_version": "1.2.0",
            "_view_name": "LayoutView",
            "align_content": null,
            "align_items": null,
            "align_self": null,
            "border": null,
            "bottom": null,
            "display": null,
            "flex": null,
            "flex_flow": null,
            "grid_area": null,
            "grid_auto_columns": null,
            "grid_auto_flow": null,
            "grid_auto_rows": null,
            "grid_column": null,
            "grid_gap": null,
            "grid_row": null,
            "grid_template_areas": null,
            "grid_template_columns": null,
            "grid_template_rows": null,
            "height": null,
            "justify_content": null,
            "justify_items": null,
            "left": null,
            "margin": null,
            "max_height": null,
            "max_width": null,
            "min_height": null,
            "min_width": null,
            "object_fit": null,
            "object_position": null,
            "order": null,
            "overflow": null,
            "overflow_x": null,
            "overflow_y": null,
            "padding": null,
            "right": null,
            "top": null,
            "visibility": null,
            "width": null
          }
        },
        "53202b671db2439b9f00c2bdd17a9055": {
          "model_module": "@jupyter-widgets/controls",
          "model_module_version": "1.5.0",
          "model_name": "FloatProgressModel",
          "state": {
            "_dom_classes": [],
            "_model_module": "@jupyter-widgets/controls",
            "_model_module_version": "1.5.0",
            "_model_name": "FloatProgressModel",
            "_view_count": null,
            "_view_module": "@jupyter-widgets/controls",
            "_view_module_version": "1.5.0",
            "_view_name": "ProgressView",
            "bar_style": "success",
            "description": "",
            "description_tooltip": null,
            "layout": "IPY_MODEL_4972c51a27bb401bac5d6a7ff74d2794",
            "max": 50,
            "min": 0,
            "orientation": "horizontal",
            "style": "IPY_MODEL_f9944b0a6bef441eb607ca865a3535e4",
            "value": 50
          }
        },
        "532876f46a904611851b1fe2c1f8b8b9": {
          "model_module": "@jupyter-widgets/controls",
          "model_module_version": "1.5.0",
          "model_name": "DescriptionStyleModel",
          "state": {
            "_model_module": "@jupyter-widgets/controls",
            "_model_module_version": "1.5.0",
            "_model_name": "DescriptionStyleModel",
            "_view_count": null,
            "_view_module": "@jupyter-widgets/base",
            "_view_module_version": "1.2.0",
            "_view_name": "StyleView",
            "description_width": ""
          }
        },
        "577c839ee9b44c2a9d9666dfa8909a55": {
          "model_module": "@jupyter-widgets/controls",
          "model_module_version": "1.5.0",
          "model_name": "HBoxModel",
          "state": {
            "_dom_classes": [],
            "_model_module": "@jupyter-widgets/controls",
            "_model_module_version": "1.5.0",
            "_model_name": "HBoxModel",
            "_view_count": null,
            "_view_module": "@jupyter-widgets/controls",
            "_view_module_version": "1.5.0",
            "_view_name": "HBoxView",
            "box_style": "",
            "children": [
              "IPY_MODEL_00272b57d693428991a457abefab767b",
              "IPY_MODEL_0290c53a24f042939bcaadc51459ce7f",
              "IPY_MODEL_aab9a5bfb81f41b89493394c0ca2149f"
            ],
            "layout": "IPY_MODEL_3607c2d027894096843696c9af44cd65"
          }
        },
        "578ab4b7fb8b4f29b13418bbe0e3a702": {
          "model_module": "@jupyter-widgets/controls",
          "model_module_version": "1.5.0",
          "model_name": "DescriptionStyleModel",
          "state": {
            "_model_module": "@jupyter-widgets/controls",
            "_model_module_version": "1.5.0",
            "_model_name": "DescriptionStyleModel",
            "_view_count": null,
            "_view_module": "@jupyter-widgets/base",
            "_view_module_version": "1.2.0",
            "_view_name": "StyleView",
            "description_width": ""
          }
        },
        "5ab3d3b1fed246cbabc25a227bb8c94f": {
          "model_module": "@jupyter-widgets/controls",
          "model_module_version": "1.5.0",
          "model_name": "HTMLModel",
          "state": {
            "_dom_classes": [],
            "_model_module": "@jupyter-widgets/controls",
            "_model_module_version": "1.5.0",
            "_model_name": "HTMLModel",
            "_view_count": null,
            "_view_module": "@jupyter-widgets/controls",
            "_view_module_version": "1.5.0",
            "_view_name": "HTMLView",
            "description": "",
            "description_tooltip": null,
            "layout": "IPY_MODEL_def2cb455e13464a82e0a920fd14130c",
            "placeholder": "​",
            "style": "IPY_MODEL_b9d4e170638e43338ceabea981943409",
            "value": " 50/50 [00:00&lt;00:00, 281.34 examples/s]"
          }
        },
        "7e9834a922ee429d88aa1900ebe31cb1": {
          "model_module": "@jupyter-widgets/controls",
          "model_module_version": "1.5.0",
          "model_name": "HTMLModel",
          "state": {
            "_dom_classes": [],
            "_model_module": "@jupyter-widgets/controls",
            "_model_module_version": "1.5.0",
            "_model_name": "HTMLModel",
            "_view_count": null,
            "_view_module": "@jupyter-widgets/controls",
            "_view_module_version": "1.5.0",
            "_view_name": "HTMLView",
            "description": "",
            "description_tooltip": null,
            "layout": "IPY_MODEL_958401522ad2424fb68eec312cb02330",
            "placeholder": "​",
            "style": "IPY_MODEL_bc1fa2cf17384ac8b84bbd35ca813b1d",
            "value": "Map: 100%"
          }
        },
        "958401522ad2424fb68eec312cb02330": {
          "model_module": "@jupyter-widgets/base",
          "model_module_version": "1.2.0",
          "model_name": "LayoutModel",
          "state": {
            "_model_module": "@jupyter-widgets/base",
            "_model_module_version": "1.2.0",
            "_model_name": "LayoutModel",
            "_view_count": null,
            "_view_module": "@jupyter-widgets/base",
            "_view_module_version": "1.2.0",
            "_view_name": "LayoutView",
            "align_content": null,
            "align_items": null,
            "align_self": null,
            "border": null,
            "bottom": null,
            "display": null,
            "flex": null,
            "flex_flow": null,
            "grid_area": null,
            "grid_auto_columns": null,
            "grid_auto_flow": null,
            "grid_auto_rows": null,
            "grid_column": null,
            "grid_gap": null,
            "grid_row": null,
            "grid_template_areas": null,
            "grid_template_columns": null,
            "grid_template_rows": null,
            "height": null,
            "justify_content": null,
            "justify_items": null,
            "left": null,
            "margin": null,
            "max_height": null,
            "max_width": null,
            "min_height": null,
            "min_width": null,
            "object_fit": null,
            "object_position": null,
            "order": null,
            "overflow": null,
            "overflow_x": null,
            "overflow_y": null,
            "padding": null,
            "right": null,
            "top": null,
            "visibility": null,
            "width": null
          }
        },
        "aab9a5bfb81f41b89493394c0ca2149f": {
          "model_module": "@jupyter-widgets/controls",
          "model_module_version": "1.5.0",
          "model_name": "HTMLModel",
          "state": {
            "_dom_classes": [],
            "_model_module": "@jupyter-widgets/controls",
            "_model_module_version": "1.5.0",
            "_model_name": "HTMLModel",
            "_view_count": null,
            "_view_module": "@jupyter-widgets/controls",
            "_view_module_version": "1.5.0",
            "_view_name": "HTMLView",
            "description": "",
            "description_tooltip": null,
            "layout": "IPY_MODEL_368b2f60d5ac4152ae63dc6abb4df276",
            "placeholder": "​",
            "style": "IPY_MODEL_532876f46a904611851b1fe2c1f8b8b9",
            "value": " 2/2 [00:43&lt;00:00, 20.71s/it]"
          }
        },
        "ab353b2d5df44d85919d1660804a4330": {
          "model_module": "@jupyter-widgets/base",
          "model_module_version": "1.2.0",
          "model_name": "LayoutModel",
          "state": {
            "_model_module": "@jupyter-widgets/base",
            "_model_module_version": "1.2.0",
            "_model_name": "LayoutModel",
            "_view_count": null,
            "_view_module": "@jupyter-widgets/base",
            "_view_module_version": "1.2.0",
            "_view_name": "LayoutView",
            "align_content": null,
            "align_items": null,
            "align_self": null,
            "border": null,
            "bottom": null,
            "display": null,
            "flex": null,
            "flex_flow": null,
            "grid_area": null,
            "grid_auto_columns": null,
            "grid_auto_flow": null,
            "grid_auto_rows": null,
            "grid_column": null,
            "grid_gap": null,
            "grid_row": null,
            "grid_template_areas": null,
            "grid_template_columns": null,
            "grid_template_rows": null,
            "height": null,
            "justify_content": null,
            "justify_items": null,
            "left": null,
            "margin": null,
            "max_height": null,
            "max_width": null,
            "min_height": null,
            "min_width": null,
            "object_fit": null,
            "object_position": null,
            "order": null,
            "overflow": null,
            "overflow_x": null,
            "overflow_y": null,
            "padding": null,
            "right": null,
            "top": null,
            "visibility": null,
            "width": null
          }
        },
        "b9d4e170638e43338ceabea981943409": {
          "model_module": "@jupyter-widgets/controls",
          "model_module_version": "1.5.0",
          "model_name": "DescriptionStyleModel",
          "state": {
            "_model_module": "@jupyter-widgets/controls",
            "_model_module_version": "1.5.0",
            "_model_name": "DescriptionStyleModel",
            "_view_count": null,
            "_view_module": "@jupyter-widgets/base",
            "_view_module_version": "1.2.0",
            "_view_name": "StyleView",
            "description_width": ""
          }
        },
        "bc1fa2cf17384ac8b84bbd35ca813b1d": {
          "model_module": "@jupyter-widgets/controls",
          "model_module_version": "1.5.0",
          "model_name": "DescriptionStyleModel",
          "state": {
            "_model_module": "@jupyter-widgets/controls",
            "_model_module_version": "1.5.0",
            "_model_name": "DescriptionStyleModel",
            "_view_count": null,
            "_view_module": "@jupyter-widgets/base",
            "_view_module_version": "1.2.0",
            "_view_name": "StyleView",
            "description_width": ""
          }
        },
        "def2cb455e13464a82e0a920fd14130c": {
          "model_module": "@jupyter-widgets/base",
          "model_module_version": "1.2.0",
          "model_name": "LayoutModel",
          "state": {
            "_model_module": "@jupyter-widgets/base",
            "_model_module_version": "1.2.0",
            "_model_name": "LayoutModel",
            "_view_count": null,
            "_view_module": "@jupyter-widgets/base",
            "_view_module_version": "1.2.0",
            "_view_name": "LayoutView",
            "align_content": null,
            "align_items": null,
            "align_self": null,
            "border": null,
            "bottom": null,
            "display": null,
            "flex": null,
            "flex_flow": null,
            "grid_area": null,
            "grid_auto_columns": null,
            "grid_auto_flow": null,
            "grid_auto_rows": null,
            "grid_column": null,
            "grid_gap": null,
            "grid_row": null,
            "grid_template_areas": null,
            "grid_template_columns": null,
            "grid_template_rows": null,
            "height": null,
            "justify_content": null,
            "justify_items": null,
            "left": null,
            "margin": null,
            "max_height": null,
            "max_width": null,
            "min_height": null,
            "min_width": null,
            "object_fit": null,
            "object_position": null,
            "order": null,
            "overflow": null,
            "overflow_x": null,
            "overflow_y": null,
            "padding": null,
            "right": null,
            "top": null,
            "visibility": null,
            "width": null
          }
        },
        "f189ad3f7ed34521bd40137f75458ee9": {
          "model_module": "@jupyter-widgets/controls",
          "model_module_version": "1.5.0",
          "model_name": "ProgressStyleModel",
          "state": {
            "_model_module": "@jupyter-widgets/controls",
            "_model_module_version": "1.5.0",
            "_model_name": "ProgressStyleModel",
            "_view_count": null,
            "_view_module": "@jupyter-widgets/base",
            "_view_module_version": "1.2.0",
            "_view_name": "StyleView",
            "bar_color": null,
            "description_width": ""
          }
        },
        "f3b283982a6945a898ef5a0d8d69bbd8": {
          "model_module": "@jupyter-widgets/base",
          "model_module_version": "1.2.0",
          "model_name": "LayoutModel",
          "state": {
            "_model_module": "@jupyter-widgets/base",
            "_model_module_version": "1.2.0",
            "_model_name": "LayoutModel",
            "_view_count": null,
            "_view_module": "@jupyter-widgets/base",
            "_view_module_version": "1.2.0",
            "_view_name": "LayoutView",
            "align_content": null,
            "align_items": null,
            "align_self": null,
            "border": null,
            "bottom": null,
            "display": null,
            "flex": null,
            "flex_flow": null,
            "grid_area": null,
            "grid_auto_columns": null,
            "grid_auto_flow": null,
            "grid_auto_rows": null,
            "grid_column": null,
            "grid_gap": null,
            "grid_row": null,
            "grid_template_areas": null,
            "grid_template_columns": null,
            "grid_template_rows": null,
            "height": null,
            "justify_content": null,
            "justify_items": null,
            "left": null,
            "margin": null,
            "max_height": null,
            "max_width": null,
            "min_height": null,
            "min_width": null,
            "object_fit": null,
            "object_position": null,
            "order": null,
            "overflow": null,
            "overflow_x": null,
            "overflow_y": null,
            "padding": null,
            "right": null,
            "top": null,
            "visibility": null,
            "width": null
          }
        },
        "f9944b0a6bef441eb607ca865a3535e4": {
          "model_module": "@jupyter-widgets/controls",
          "model_module_version": "1.5.0",
          "model_name": "ProgressStyleModel",
          "state": {
            "_model_module": "@jupyter-widgets/controls",
            "_model_module_version": "1.5.0",
            "_model_name": "ProgressStyleModel",
            "_view_count": null,
            "_view_module": "@jupyter-widgets/base",
            "_view_module_version": "1.2.0",
            "_view_name": "StyleView",
            "bar_color": null,
            "description_width": ""
          }
        }
      }
    }
  },
  "nbformat": 4,
  "nbformat_minor": 0
}
